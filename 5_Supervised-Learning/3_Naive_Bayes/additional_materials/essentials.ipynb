{
 "cells": [
  {
   "cell_type": "markdown",
   "metadata": {},
   "source": [
    "# Naive Bayes Refresher"
   ]
  },
  {
   "cell_type": "markdown",
   "metadata": {},
   "source": [
    "Bayes' rule:\n",
    "$$p(y|x)=\\frac{p(x|y)p(y)}{p(x)}$$\n",
    "\n",
    "Explanation:\n",
    "$$\\text{posterior probability}=\\frac{\\text{model likelihood} \\times \\text{prior probability}}{\\text{normalization}}$$\n",
    " "
   ]
  },
  {
   "cell_type": "markdown",
   "metadata": {},
   "source": [
    "Naive Bayes says $p(y|x_1, x_2, ..., x_N)$ is proportional to $p(x_1|y)...p(x_N|y)p(y)$\n",
    "* Assumes features are conditionally independent given the class\n",
    "* Proportionality is enough to say which class is the most likely\n",
    "\n",
    "How can we estimate these terms?\n",
    "* The prior $p(y)$ can be specified\n",
    "    * Default prior: $N_C/N$ (number of examples from class $C$ over number of all examples)\n",
    "* The probabilities $p(x_i|y)$ can be modelled\n",
    "     * if $x_i$ is continuous, as a Gaussian\n",
    "     * if $x_i$ is ordinal, as a Multinomial\n",
    "     * if $x_i$ is binary, as a Bernoulli\n",
    "     \n",
    "The parameters of each distribution are fitted using maximum likelihood estimation on the training data."
   ]
  },
  {
   "cell_type": "markdown",
   "metadata": {},
   "source": [
    "How to create a Gaussian Naive Bayes model in ``sklearn``:"
   ]
  },
  {
   "cell_type": "code",
   "execution_count": null,
   "metadata": {},
   "outputs": [],
   "source": [
    "from sklearn.naive_bayes import GaussianNB\n",
    "\n",
    "gnb = GaussianNB()"
   ]
  },
  {
   "cell_type": "markdown",
   "metadata": {},
   "source": [
    "How to fit Gaussian Naive Bayes:"
   ]
  },
  {
   "cell_type": "code",
   "execution_count": null,
   "metadata": {},
   "outputs": [],
   "source": [
    "gnb.fit(X_train, y_train)"
   ]
  },
  {
   "cell_type": "markdown",
   "metadata": {},
   "source": [
    "How to make a prediction:"
   ]
  },
  {
   "cell_type": "code",
   "execution_count": null,
   "metadata": {},
   "outputs": [],
   "source": [
    "gnb.predict(X_test)"
   ]
  },
  {
   "cell_type": "markdown",
   "metadata": {},
   "source": [
    "How to look at the predicted probabilities:"
   ]
  },
  {
   "cell_type": "code",
   "execution_count": null,
   "metadata": {},
   "outputs": [],
   "source": [
    "gnb.predict_proba(X_test)\n",
    "gnb.predict_log_proba(X_test)"
   ]
  },
  {
   "cell_type": "markdown",
   "metadata": {},
   "source": [
    "How to evaluate Gaussian Naive Bayes:"
   ]
  },
  {
   "cell_type": "code",
   "execution_count": null,
   "metadata": {},
   "outputs": [],
   "source": [
    "from sklearn.metrics import classification_report\n",
    "\n",
    "classification_report(y_test, gnb.predict(X_test))"
   ]
  },
  {
   "cell_type": "markdown",
   "metadata": {},
   "source": [
    "Other versions of Naive Bayes are used similarly and are available in ``sklearn``, e.g. ``MultinomialNB`` or ``BernoulliNB``"
   ]
  }
 ],
 "metadata": {
  "kernelspec": {
   "display_name": "Python 3 (ipykernel)",
   "language": "python",
   "name": "python3"
  },
  "language_info": {
   "codemirror_mode": {
    "name": "ipython",
    "version": 3
   },
   "file_extension": ".py",
   "mimetype": "text/x-python",
   "name": "python",
   "nbconvert_exporter": "python",
   "pygments_lexer": "ipython3",
   "version": "3.10.3"
  }
 },
 "nbformat": 4,
 "nbformat_minor": 4
}
