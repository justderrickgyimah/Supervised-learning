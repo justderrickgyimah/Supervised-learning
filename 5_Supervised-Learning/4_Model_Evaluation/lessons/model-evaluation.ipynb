{
    "cells": [
        {
            "cell_type": "markdown",
            "metadata": {
                "slideshow": {
                    "slide_type": "slide"
                }
            },
            "source": [
                "# Model Evaluation\n",
                "\n",
                "## Assessing Model Performance"
            ]
        },
        {
            "cell_type": "markdown",
            "metadata": {
                "slideshow": {
                    "slide_type": "slide"
                }
            },
            "source": [
                "# Overview\n",
                "* Classification and regression\n",
                "* Evaluation metrics used for each\n",
                "* Intrinsic vs extrinsic evaluation"
            ]
        },
        {
            "cell_type": "markdown",
            "metadata": {
                "slideshow": {
                    "slide_type": "notes"
                }
            },
            "source": [
                "You will already be familiar with supervised learning and the two main tasks those algorithms are used for: classification and regression. In the classification setting, we want to predict a discrete label (or labels) for a given input. In regression, the prediction will be a real-valued number.\n",
                "\n",
                "This learning unit will cover how we assess the performance of models created to solve these two tasks. First, an overview of how the two tasks differ in the output their models produce. Then, we take inventory of the many metrics used to measure how good that output is, relative to our expectations. Finally, we contrast this intrinsic approach to one grounded in more pragmatic, extrinsic, considerations."
            ]
        },
        {
            "cell_type": "markdown",
            "metadata": {
                "slideshow": {
                    "slide_type": "slide"
                }
            },
            "source": [
                "## Classification vs regression\n",
                "\n",
                "* Classification - categorical dependent/response variable\n",
                "* Regression - numerical dependent/response variable"
            ]
        },
        {
            "cell_type": "code",
            "execution_count": null,
            "metadata": {
                "slideshow": {
                    "slide_type": "skip"
                }
            },
            "outputs": [],
            "source": [
                "import matplotlib.pyplot as plt\n",
                "from sklearn.datasets import load_iris\n",
                "import pandas as pd\n",
                "import seaborn as sns\n",
                "\n",
                "# Load iris dataset \n",
                "iris = load_iris()\n",
                "# print(iris.data.shape)\n",
                "# print(iris.target_names)\n",
                "\n",
                "# convert it to a dataframe and use only a subset\n",
                "df_iris = pd.DataFrame(iris.data)\n",
                "df_iris.columns = iris.feature_names\n",
                "df_iris['class'] = iris.target\n",
                "\n",
                "subset_iris = df_iris.iloc[:, [0,1,4]]\n",
                "subset_iris = subset_iris.loc[subset_iris[\"class\"]<=1,:]"
            ]
        },
        {
            "cell_type": "code",
            "execution_count": null,
            "metadata": {
                "scrolled": true,
                "slideshow": {
                    "slide_type": "-"
                }
            },
            "outputs": [],
            "source": [
                "plt.figure(figsize=(12,10))\n",
                "plt.title(\"Example classification problem\",  size = \"xx-large\")\n",
                "plt.text(5.95, 3.95, \"o\", c =\"red\", size = \"x-large\")\n",
                "plt.text(6, 4, \"?\", c =\"red\", size = \"xx-large\")\n",
                "sns.scatterplot(x=subset_iris.columns[0], y=subset_iris.columns[1], data=subset_iris, hue=\"class\");"
            ]
        },
        {
            "cell_type": "markdown",
            "metadata": {
                "slideshow": {
                    "slide_type": "notes"
                }
            },
            "source": [
                "As an example of a classification problem - we have a dataset about 3 different types of irises and 4 measurements. For simplicity we look at a subset of the data with 2 iris types and 2 measurements - sepal width and sepal length. Let 0 denote the 'Setosa' iris type and 1 the 'Versicolor' iris type, we can visualise our data as shown in the figure. \n",
                "\n",
                "Say we have this point here, marked in red with a question mark, an observation with sepal length 6 and sepal width 4, what type of iris is it? Setosa or Versicolor?\n",
                "\n",
                "In classification, we attempt to map features of objects to some categorical group label. In our example, the categories are Setosa or Versicolor. When we have a new (or unlabeled) observation, we want to predict whether it is Setosa or Versicolor.\n",
                "\n",
                "\n",
                "The key evaluation question for classification is \"How good are the labels assigned by the model?\" We need to be able to quantitatively compare models which make different classifications for the same data points."
            ]
        },
        {
            "cell_type": "markdown",
            "metadata": {
                "slideshow": {
                    "slide_type": "slide"
                }
            },
            "source": [
                "## Classification vs regression\n",
                "\n",
                "* Classification - categorical dependent/response variable\n",
                "* Regression - numerical dependent/response variable"
            ]
        },
        {
            "cell_type": "code",
            "execution_count": null,
            "metadata": {
                "slideshow": {
                    "slide_type": "skip"
                }
            },
            "outputs": [],
            "source": [
                "import numpy as np\n",
                "\n",
                "setosa_iris = subset_iris.loc[subset_iris[\"class\"]<=0,:]\n",
                "\n",
                "# fit polynomial of degree 1\n",
                "xp = np.linspace(4, 6, 100)\n",
                "z1 = np.polyfit(setosa_iris.iloc[:, 0], setosa_iris.iloc[:, 1], 1)\n",
                "p1 = np.poly1d(z1)"
            ]
        },
        {
            "cell_type": "code",
            "execution_count": null,
            "metadata": {
                "slideshow": {
                    "slide_type": "-"
                }
            },
            "outputs": [],
            "source": [
                "plt.figure(figsize=(12,8))\n",
                "plt.title(\"Example Regression problem\",  size = \"xx-large\")\n",
                "plt.text(5.55, 3.65, \"o\", c =\"red\", size = \"x-large\")\n",
                "plt.text(5.6, 3, \"?\", c =\"red\", size = \"xx-large\")\n",
                "plt.vlines(x=5.57, ymin=2, ymax=3.65, colors='red', ls=':', lw=2)\n",
                "sns.scatterplot(x=setosa_iris.columns[0], y=setosa_iris.columns[1], data=setosa_iris, hue=\"class\")\n",
                "plt.plot(xp, p1(xp), '-', c=\"green\");\n",
                "# plt.plot(x, y, 'o', xp, p1(xp), '-')"
            ]
        },
        {
            "cell_type": "markdown",
            "metadata": {
                "slideshow": {
                    "slide_type": "notes"
                }
            },
            "source": [
                "In regression, we attempt to predict one real-valued number using one or more other real-valued numbers. \n",
                "\n",
                "In the graph here, we only look at the measurements of Setosa iris. The aim is to learn the relationship between Setosa's sepal width and length. Given a new datapoint which tells us the sepal length in cm, our model should output a prediction for its sepal width in cm. \n",
                "\n",
                "The key evaluation question for regression is \"How close are the predictions to the observed values?\" We need to be able to quantitatively compare models which produce different $y$ values for the same $x$ value."
            ]
        },
        {
            "cell_type": "markdown",
            "metadata": {
                "slideshow": {
                    "slide_type": "slide"
                }
            },
            "source": [
                "## Requirements for evaluation\n",
                "\n",
                "* A trained model's output: *target predictions*\n",
                "    * Supervised training will require labeled data\n",
                "* A data set you can evaluate those predictions against: the *ground truth*\n",
                "    * Ideally data the model has never seen before\n",
                "* Some metric that compares predictions to the ground truth"
            ]
        },
        {
            "cell_type": "markdown",
            "metadata": {
                "slideshow": {
                    "slide_type": "notes"
                }
            },
            "source": [
                "Before we go further, let's clarify exactly what resources we need to perform evaluation.\n",
                "\n",
                "First, a trained model you can use to generate predictions. This will have been trained on some dataset that maps inputs to outputs.\n",
                "\n",
                "Second, some data that the model has not seen before when being trained. This allows us to say something about the generalisability of the model: how well it adapts to novel inputs. This is because in most cases we don't have access to datasets which contain all possible inputs and their outputs. If we did, it would probably be a trivial task such as adding two numbers between 0 and 100. \n",
                "\n",
                "In practice, we usually gather as much data as we can and then set aside a portion of it for evaluation. Here, however, we will just use toy examples."
            ]
        },
        {
            "cell_type": "markdown",
            "metadata": {
                "slideshow": {
                    "slide_type": "slide"
                }
            },
            "source": [
                "## Classification evaluation: accuracy\n",
                "\n",
                "* May have 2 possible classes (binary) or 3+ (multiclass)\n",
                "* Data points can belong to only *one* class\n",
                "* Key measure: how many labels are predicted *accurately*? $\\text{accuracy} = \\frac{\\# \\text{correct}}{\\# \\text{data}}$ "
            ]
        },
        {
            "cell_type": "code",
            "execution_count": null,
            "metadata": {
                "slideshow": {
                    "slide_type": "skip"
                }
            },
            "outputs": [],
            "source": [
                "from sklearn.linear_model import LogisticRegression\n",
                "X = subset_iris.iloc[:, 0:1]\n",
                "y = subset_iris.iloc[:, 2]\n",
                "clf = LogisticRegression(random_state=0).fit(X, y)"
            ]
        },
        {
            "cell_type": "code",
            "execution_count": null,
            "metadata": {
                "slideshow": {
                    "slide_type": "-"
                }
            },
            "outputs": [],
            "source": [
                "y_pred = clf.predict(X) # get predicted y\n",
                " \n",
                "print(\"Accuracy: \", (y==y_pred).mean())"
            ]
        },
        {
            "cell_type": "markdown",
            "metadata": {
                "slideshow": {
                    "slide_type": "notes"
                }
            },
            "source": [
                "Using our subset iris dataset with 100 observations, 2 measurements - sepal width and sepal width, and 2 classes - Setosa or Versicolor; we fit a logistic regression (without splitting into training and testing). \n",
                "\n",
                "The basic measure calculated here is accuracy: the number of correct predictions, as a proportion of the total number of predictions made.\n",
                "\n",
                "Accuracy is generally reported as a percentage, so here it is 89%.\n",
                "\n",
                "This form of accuracy is also referred to as micro accuracy. It doesn't take the individual classes into account, only the overall number of correct predictions."
            ]
        },
        {
            "cell_type": "markdown",
            "metadata": {
                "slideshow": {
                    "slide_type": "slide"
                }
            },
            "source": [
                "### Micro and macro accuracy for imbalanced classes\n",
                "\n",
                "* What if classes are *imbalanced*?<br>\n",
                "Compute macro accuracy over classes $C$ : $$\\text{accuracy}_{\\text{macro}} = \\frac{1}{\\vert C \\vert}\\sum_{i=1}^{C} \\text{accuracy}_{i}$$"
            ]
        },
        {
            "cell_type": "code",
            "execution_count": null,
            "metadata": {
                "slideshow": {
                    "slide_type": "-"
                }
            },
            "outputs": [],
            "source": [
                "# Per-class, micro and macro accuracy\n",
                "truth =  np.array(['A', 'A', 'A', 'B', 'B', 'B', 'B', 'B', 'B', 'B'])\n",
                "preds =  np.array(['A', 'B', 'B', 'B', 'B', 'B', 'B', 'B', 'B', 'B'])\n",
                "\n",
                "a_acc = (truth[truth=='A'] == preds[truth=='A']).mean()\n",
                "b_acc = (truth[truth=='B'] == preds[truth=='B']).mean()"
            ]
        },
        {
            "cell_type": "code",
            "execution_count": null,
            "metadata": {
                "slideshow": {
                    "slide_type": "-"
                }
            },
            "outputs": [],
            "source": [
                "print(f\"Class A accuracy: {a_acc}\\n\")\n",
                "print(f\"Class B accuracy: {b_acc}\\n\")\n",
                "\n",
                "print(f\"Micro accuracy: {(truth==preds).mean()}\\n\")\n",
                "print(f\"Macro accuracy: {1/(len(set(y))) * (a_acc + b_acc):.2f}\\n\")"
            ]
        },
        {
            "cell_type": "markdown",
            "metadata": {
                "slideshow": {
                    "slide_type": "notes"
                }
            },
            "source": [
                "Here we can see a more detailed breakdown of how the predictions aligned with the expected values.\n",
                "\n",
                "Using any one accuracy number alone doesn't really give the fullest picture of how close the predictions are to the ground truth.\n",
                "\n",
                "Per-class accuracy tells us that the model is very good at predicting one class. Micro and macro accuracy tell us that while overall performance may seem high, this obscures a big difference in per-class performance."
            ]
        },
        {
            "cell_type": "markdown",
            "metadata": {
                "slideshow": {
                    "slide_type": "slide"
                }
            },
            "source": [
                "### True positive and false positive rate\n",
                "\n",
                "For the binary classification example:\n",
                "\n",
                "* Accuracy is only concerned with correct predictions. Calculated using only:\n",
                "    * *True positives* (TP) : Class A predicted as Class A\n",
                "    * *True negatives* (FP) : Class B predicted as Class B\n",
                "* Rate regarding incorrect predictions:\n",
                "    * *False negatives* (FN) : Class A predicted as Class B\n",
                "    * *False positives* (FP) : Class B predicted as Class A"
            ]
        },
        {
            "cell_type": "markdown",
            "metadata": {
                "slideshow": {
                    "slide_type": "notes"
                }
            },
            "source": [
                "Using a few versions of accuracy can tell us a lot about how good a model is at being correct, but we may find it useful to know something about how wrong a model is.\n",
                "\n",
                "In the binary classification example we've been looking at (where the output of the model can only be one of either A or B), we can label each of the model's predictions in terms of it matching the ground truth or not. This is done for each class, relative to the other class, as shown in the table.\n",
                "\n",
                "Additional information:\n",
                "\n",
                "Calculating these values for a simple binary classifier is straightforward, but becomes a bit complex if you have many classes. Luckily, there are packages in Python which will do this all for us!\n",
                "\n",
                "The multiclass case, where there are 3 or more classes (but inputs can still only have one class label predicted) is an extension of the binary case. \n",
                "\n",
                "If you have three classes (A, B, C) and want to calculate TP, FN, FP and TN then you need to do this by considering each class in turn, and the model predictions for each class relative to the other classes.\n",
                "\n",
                "For example, if a class A is correctly labeled as A, then that counts as a TP for A. It is also a TN for both B and C.\n",
                "\n",
                "But if A is classed as B, that is a FN for A. It is also a FP for B but still a TN for C.\n",
                "\n",
                "Conversely, if A is classed as C, it is still a FN for A. But now it is a TN for B and a FP for C."
            ]
        },
        {
            "cell_type": "markdown",
            "metadata": {
                "slideshow": {
                    "slide_type": "slide"
                }
            },
            "source": [
                "### Precision and recall (recap from *L04 Model validation*)\n",
                "\n",
                "- The other commonly used criteria for binary classification are **precision** and **recall**:\n",
                "\n",
                "\\begin{align*}\n",
                "\\text{recall} &= TPR = \\frac{TP}{TP+FN} \\\\\n",
                "\\text{precision} &= \\frac{TP}{TP + FP}.\n",
                "\\end{align*}\n",
                "\n",
                "\n",
                "- **Recall** is the same as true positive rate or sensitivity. **Precision** describes how good the model is at predicting the positive class.\n",
                "\n",
                "- A recall of 1.0 for A means all items which should have been classified as A were indeed classified as A. None were classified as B.\n",
                "\n",
                "- A precision of 1.0 for A means that the model never labeled a B as an A: all the items predicted as A were correct."
            ]
        },
        {
            "cell_type": "markdown",
            "metadata": {
                "slideshow": {
                    "slide_type": "slide"
                }
            },
            "source": [
                "### F1 score (recap from *L04 Model validation*)\n",
                "\n",
                "* Combines precision and recall to generate one simple number and penalise extreme values:\n",
                "    * F1 Score = $2 \\cdot \\frac{\\text{precision} \\cdot \\text{recall}}{\\text{precision} + \\text{recall}}$\n",
                "* Can be weighted more in favour of precision or recall:\n",
                "    * $F_{\\beta}$ Score = $(1 + \\beta) \\cdot \\frac{\\text{precision} \\cdot \\text{recall}}{(\\beta \\cdot \\text{precision}) + \\text{recall}}$\n",
                "    * Favours recall when $\\beta \\gt 1$ and precision when $\\beta \\lt 1$"
            ]
        },
        {
            "cell_type": "markdown",
            "metadata": {
                "slideshow": {
                    "slide_type": "notes"
                }
            },
            "source": [
                "Sometimes you just want a single number to sum everything up. The harmonic mean of precision and recall provides this.\n",
                "\n",
                "As with precision and recall, it ranges from 0 to 1.0 and should not be reported as a percentage.\n",
                "\n",
                "When precision and recall are 1.0, the F1 will also be 1.0.\n",
                "\n",
                "The standard F1 score will always be somewhere between the precision and recall used to calculate it.\n",
                "\n",
                "In the standard F1 score, precision and recall contribute equally. Depending on your use case, you might want to place more importance on precision or recall.\n",
                "\n",
                "This can be done through the beta parameter. When equal to 1, precision and recall are treated equally. When greater than one, the F1 score takes recall more into account. And when less than 1 precision counts for more of the final score."
            ]
        },
        {
            "cell_type": "markdown",
            "metadata": {
                "slideshow": {
                    "slide_type": "slide"
                }
            },
            "source": [
                "### Classification evaluation: all classes\n",
                "\n",
                "* Accuracy, precision, recall, F1 are calculated per class: focused evaluation\n",
                "* Averages over the per-class scores: big picture evaluation\n",
                "* Class averages can be weighted to take class importance into account\n",
                "    * Can prioritise rare classes or ignore them somewhat\n",
                "    * Might result in an F1 that is not between precision and recall\n",
                "* Use these to evaluate the classification predictions of any model\n",
                "* ```sklearn.metrics``` implements all of these and more"
            ]
        },
        {
            "cell_type": "markdown",
            "metadata": {
                "slideshow": {
                    "slide_type": "notes"
                }
            },
            "source": [
                "The classification metrics we've looked at so far are best used to understand how well a model does in general and for each of the classes in your dataset.\n",
                "\n",
                "The ideal model will perform well on all classes but, in practice, this is unlikely. Zooming in to see per-class performance is therefore useful: perhaps more training examples are needed or additional feature engineering is necessary. Or perhaps the poorly predicted classes aren't actually that important, given your goals, so they can be discounted!"
            ]
        },
        {
            "cell_type": "markdown",
            "metadata": {
                "slideshow": {
                    "slide_type": "slide"
                }
            },
            "source": [
                "## Classification evaluation"
            ]
        },
        {
            "cell_type": "code",
            "execution_count": null,
            "metadata": {
                "slideshow": {
                    "slide_type": "-"
                }
            },
            "outputs": [],
            "source": [
                "# Example of all of the above in one sklearn command...\n",
                "# If you need only raw numbers, then use sklearn.metrics.precision_recall_fscore_support\n",
                "# or sklearn.metrics.accuracy_score\n",
                "\n",
                "from sklearn.metrics import classification_report, precision_recall_fscore_support\n",
                "\n",
                "truth =  ['A', 'A', 'A', 'A', 'A', 'A', 'A', 'A', 'A', 'B', 'B', 'B', 'B', 'B', 'B', 'B']\n",
                "preds =  ['B', 'B', 'B', 'A', 'B', 'A', 'A', 'B', 'B', 'B', 'A', 'B', 'A', 'B', 'B', 'B']\n"
            ]
        },
        {
            "cell_type": "code",
            "execution_count": null,
            "metadata": {
                "scrolled": true,
                "slideshow": {
                    "slide_type": "-"
                }
            },
            "outputs": [],
            "source": [
                "print(classification_report(truth, preds))\n",
                "\n",
                "print(precision_recall_fscore_support(truth, preds))"
            ]
        },
        {
            "cell_type": "markdown",
            "metadata": {
                "slideshow": {
                    "slide_type": "notes"
                }
            },
            "source": [
                "Calculating the per-class metrics is straightforward: just pass in an array of the ground truths and an array of your model's predictions. These should be the same length and the prediction at position $i$ should correspond to the ground truth at position $i$.\n",
                "\n",
                "`classification_report` generates a report with all the key information.\n",
                "\n",
                "Support is the number of examples of that class in the ground truth data, while macro and weighted averages of each metric were discussed earlier.\n",
                "\n",
                "The report tells you the three metric scores (P/R/F1) but also gives different versions of these (micro/macro/weighted).\n",
                "\n",
                "Macro average: compute metric (P/R/F1) for each class and divide by number of classes. Treats each class the same.\n",
                "\n",
                "Micro/weighted average: use the actual numbers of TP/FP/FN/TN and divide by the total number of examples. Each class's contribution to the final score is proportional to how often it appears in the data."
            ]
        },
        {
            "cell_type": "markdown",
            "metadata": {
                "slideshow": {
                    "slide_type": "slide"
                }
            },
            "source": [
                "### ROC curves\n",
                "- Receiver Operator Characteristic (ROC) curves plot False Positives against True Positive for binary classifier\n",
                "\n",
                "<img src=\"data:image/png;base64,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\">\n",
                "\n",
                "- If false positive rate == true positive rate then you are essentially randomly guessing\n",
                "- The perfect classifier has a high true positive rate and a low false positive rate"
            ]
        },
        {
            "cell_type": "markdown",
            "metadata": {
                "slideshow": {
                    "slide_type": "notes"
                }
            },
            "source": [
                "ROC curves are something you will see come up often to detect how good a binary classifier is. \n",
                "\n",
                "We plot the false positive rate against the true positive rate to give us the \"reciever operator characteristic\". \n",
                "\n",
                "If the false positive rate is equal to the true positive rate then we are doing the equivalent of randomly guessing - this is represented by the dotted red line through the middle."
            ]
        },
        {
            "cell_type": "code",
            "execution_count": null,
            "metadata": {
                "slideshow": {
                    "slide_type": "skip"
                }
            },
            "outputs": [],
            "source": [
                "from sklearn.metrics import roc_auc_score\n",
                "from sklearn.metrics import roc_curve\n",
                "\n",
                "logit_roc_auc = roc_auc_score(y, y_pred)\n",
                "fpr, tpr, thresholds = roc_curve(y, y_pred)"
            ]
        },
        {
            "cell_type": "markdown",
            "metadata": {
                "slideshow": {
                    "slide_type": "slide"
                }
            },
            "source": [
                "### ROC curves\n"
            ]
        },
        {
            "cell_type": "code",
            "execution_count": null,
            "metadata": {
                "slideshow": {
                    "slide_type": "-"
                }
            },
            "outputs": [],
            "source": [
                "# ROC curve for the subset iris dataset\n",
                "plt.figure()\n",
                "plt.plot(fpr, tpr, label='Logistic Regression (area = %0.2f)' % logit_roc_auc)\n",
                "plt.plot([0, 1], [0, 1],'r--')\n",
                "plt.xlim([0.0, 1.0])\n",
                "plt.ylim([0.0, 1.05])\n",
                "plt.xlabel('False Positive Rate')\n",
                "plt.ylabel('True Positive Rate')\n",
                "plt.title('Receiver operating characteristic')\n",
                "plt.legend(loc=\"lower right\")\n",
                "#plt.savefig('Log_ROC')\n",
                "plt.show()"
            ]
        },
        {
            "cell_type": "markdown",
            "metadata": {
                "slideshow": {
                    "slide_type": "notes"
                }
            },
            "source": [
                "This is the ROC curve using the subset iris dataset we discussed before. We have 100 observations, 2 classes and 2 predictors. In most cases you want to see a ROC curve that hugs the top-left corner. This case looks a bit piecewise because as we saw in our visualisation before, the classes are visibly separable. "
            ]
        },
        {
            "cell_type": "markdown",
            "metadata": {
                "slideshow": {
                    "slide_type": "slide"
                }
            },
            "source": [
                "### Working with log probabilities\n",
                "\n",
                "* In modeling joint likelihood for a set of iid datapoints, the product becomes sum, $\\log(\\prod_{i=1}^n p(x_i))=\\sum_{i=1}^n \\log(p(x_i))$.\n",
                "* Since $\\log x$ is a monotonically increasing function, it does not change the sign of the function. Maximizing $f(x)$ is the equivalent to maximizing $\\log(f(x))$.\n",
                "* Numerical advantage - the product of a large number of small probabilities can easily underflow the numerical precision of the computer, computing the sum of the log probabilities resolves this."
            ]
        },
        {
            "cell_type": "markdown",
            "metadata": {
                "slideshow": {
                    "slide_type": "slide"
                }
            },
            "source": [
                "### Classification evaluation: using probabilities\n",
                "\n",
                "* Accuracy, precision, recall and F1 all focus on discrete classification outcomes\n",
                "* Many classifiers output not only a class prediction, but the probability associated with that prediction\n",
                "    * A measure of the model's confidence in the evidence in support of the prediction\n",
                "    * A model which is correct AND confident would be nice to have\n",
                "* For binary classification:\n",
                "    * **Brier Score**: $\\frac{1}{n}\\sum_{i=1}^{n} (p_t - a_t)^2 $"
            ]
        },
        {
            "cell_type": "markdown",
            "metadata": {
                "slideshow": {
                    "slide_type": "notes"
                }
            },
            "source": [
                "So far we have looked at evaluating the final predictions of a classification model. But many algorithms provide a probability score alongside each prediction.\n",
                "\n",
                "We can evaluate the confidence of a binary classification model by comparing the probabilities associated with each prediction.\n",
                "\n",
                "For the positive or true class, a perfect score would be 1. For the negative or false class, it would be 0.\n",
                "\n",
                "The Brier Score simply subtracts each actual score from its predicted score, sums them all up and divides by the number of predictions to get an average.\n",
                "\n",
                "It is a loss function, so a lower score is better."
            ]
        },
        {
            "cell_type": "markdown",
            "metadata": {
                "slideshow": {
                    "slide_type": "slide"
                }
            },
            "source": [
                "### Classification evaluation: using probabilities"
            ]
        },
        {
            "cell_type": "code",
            "execution_count": null,
            "metadata": {
                "slideshow": {
                    "slide_type": "-"
                }
            },
            "outputs": [],
            "source": [
                "model_1_preds = ['B', 'B', 'A', 'A', 'A']\n",
                "model_1_probs = [0.9, 0.8, 0.65, 0.35, 0.3]\n",
                "\n",
                "model_2_preds = ['B', 'B', 'A', 'A', 'A']\n",
                "model_2_probs = [0.7, 0.7, 0.55, 0.1, 0.2]\n",
                "\n",
                "from sklearn.metrics import brier_score_loss\n",
                "\n",
                "print(f\"Model 1 loss: {brier_score_loss(model_1_preds, model_1_probs, pos_label='B'):.2f}\")\n",
                "print(f\"Model 2 loss: {brier_score_loss(model_2_preds, model_2_probs, pos_label='B'):.2f}\")"
            ]
        },
        {
            "cell_type": "markdown",
            "metadata": {
                "slideshow": {
                    "slide_type": "notes"
                }
            },
            "source": [
                "Here, both models make the same predictions but with different probabilities. The Brier Score for Model 2 is better."
            ]
        },
        {
            "cell_type": "markdown",
            "metadata": {
                "slideshow": {
                    "slide_type": "slide"
                }
            },
            "source": [
                "### Classification evaluation: using probabilities\n",
                "\n",
                "* Log loss: similar to Brier Score, evaluating model probabilities\n",
                "    * But can be used for binary and multiclass classification\n",
                "* Each prediction $y \\in Y$ has a probability estimate $p$ per class $k \\in K$\n",
                "* Class labels become numerical: $[0, 1, 2, \\cdots, n]$\n",
                "* Want to penalise probability predictions the more they lead to the wrong prediction\n",
                "* Log loss multiplies the class labels by the log probability for each prediction, and takes the average\n",
                "$$ L_{\\log}(Y, P) = - \\frac{1}{N} \\sum_{i=0}^{N-1} \\sum_{k=0}^{K-1} y_{i,k} \\log p_{i,k} $$"
            ]
        },
        {
            "cell_type": "markdown",
            "metadata": {
                "slideshow": {
                    "slide_type": "notes"
                }
            },
            "source": [
                "Brier Score only works for binary classification. For models with more than two classes, log loss does something similar.\n",
                "\n",
                "Rather than compare the model's probability score for each prediction to a perfect score, log loss takes the log of each probability per class per prediction, multiplies it by the class label (e.g. False = 0, True = 1), adds all these together and takes the average over the number of predictions. (This is always a negative number so it is multiplied by -1 to make it positive and more readily considered as a loss.)"
            ]
        },
        {
            "cell_type": "markdown",
            "metadata": {
                "slideshow": {
                    "slide_type": "slide"
                }
            },
            "source": [
                "### Classification evaluation: log loss\n"
            ]
        },
        {
            "cell_type": "code",
            "execution_count": null,
            "metadata": {
                "slideshow": {
                    "slide_type": "-"
                }
            },
            "outputs": [],
            "source": [
                "from sklearn.metrics import log_loss\n",
                "\n",
                "model_1_preds = ['B', 'B', 'A', 'A', 'A']\n",
                "model_1_probs = [[0.9, 0.1], [0.8, 0.2], [0.65, 0.35], [0.4, 0.6], [0.3, 0.7]]\n",
                "\n",
                "model_2_preds = ['B', 'B', 'A', 'A', 'A']\n",
                "model_2_probs = [[0, 1.0], [0, 1.0], [1.0, 0], [1.0, 0], [1.0, 0]]\n",
                "\n",
                "model_3_preds = ['B', 'B', 'A', 'A', 'A']\n",
                "model_3_probs = [[1.0, 0], [1.0, 0], [0, 1.0], [0, 1.0], [0, 1.0], ]\n",
                "\n",
                "print(f\"Model 1 loss: {log_loss(model_1_preds, model_1_probs):.2f}\")\n",
                "print(f\"Model 2 loss: {log_loss(model_2_preds, model_2_probs):.2f}\")\n",
                "print(f\"Model 3 loss: {log_loss(model_3_preds, model_3_probs):.2f}\")"
            ]
        },
        {
            "cell_type": "markdown",
            "metadata": {
                "slideshow": {
                    "slide_type": "notes"
                }
            },
            "source": [
                "Of course, this is all implemented in `sklearn`!\n",
                "\n",
                "The only difference is that the probabilities for each prediction must contain an entry for every possible class, and sum to 1.\n",
                "\n",
                "Models trained in `sklearn` will output these for you through the `predict_proba()` method.\n",
                "\n",
                "You can see here that the perfect model 2 has a loss of 0, while the completely wrong model has a much higher loss. \n",
                "In theory, there is no upper limit to loss, but the lowest loss is 0. \n",
                "\n",
                "The completely wrong model, given by model 3 gets 34.54 because of an eps parameter.\n",
                "\n",
                "> 'Log loss is undefined for $p=0$ or $p=1$, so probabilities are clipped to `max(eps, min(1 - eps, p))`.'\n",
                "\n",
                "and so this value comes from [that](https://scikit-learn.org/stable/modules/generated/sklearn.metrics.log_loss.html)."
            ]
        },
        {
            "cell_type": "markdown",
            "metadata": {
                "slideshow": {
                    "slide_type": "slide"
                }
            },
            "source": [
                "### Classification evaluation: visualisation\n",
                "\n",
                "* Confusion matrix: a quick visual representation of classification outcomes\n",
                "* Lets you see how class predictions are distributed over all classes\n",
                "* $n \\times n$ grid with model predictions on one axis, ground truth on the other\n",
                "* A perfect classifier will only have values on the diagonal\n"
            ]
        },
        {
            "cell_type": "code",
            "execution_count": null,
            "metadata": {
                "slideshow": {
                    "slide_type": "-"
                }
            },
            "outputs": [],
            "source": [
                "import random\n",
                "from sklearn.metrics import confusion_matrix\n",
                "\n",
                "ground_truth = random.choices(['cat', 'dog', 'mouse'], weights=[2,2,1], k=100)\n",
                "predictions  = random.choices(['cat', 'dog', 'mouse'], weights=[2,2,1], k=100)\n",
                "\n",
                "print(confusion_matrix(ground_truth, predictions))"
            ]
        },
        {
            "cell_type": "markdown",
            "metadata": {
                "slideshow": {
                    "slide_type": "notes"
                }
            },
            "source": [
                "Sometimes a quick visual inspection of a classifier's output is useful.\n",
                "\n",
                "A confusion matrix shows how the ground truth aligns with the predictions. A perfect match will only have values on the diagonal."
            ]
        },
        {
            "cell_type": "markdown",
            "metadata": {
                "slideshow": {
                    "slide_type": "slide"
                }
            },
            "source": [
                "### Classification evaluation: confusion matrix\n"
            ]
        },
        {
            "cell_type": "code",
            "execution_count": null,
            "metadata": {
                "slideshow": {
                    "slide_type": "-"
                }
            },
            "outputs": [],
            "source": [
                "import seaborn as sns\n",
                "\n",
                "sns.heatmap(confusion_matrix(ground_truth, predictions), cmap='Blues', square=True, annot=True, xticklabels=['cat','dog','mouse'], yticklabels=['cat','dog','mouse']);\n"
            ]
        },
        {
            "cell_type": "markdown",
            "metadata": {
                "slideshow": {
                    "slide_type": "notes"
                }
            },
            "source": [
                "Visualising the confusion matrix as a heatmap can be an easy way to see if a model consistently mixes up two particular classes - if it always gets one class right, if it never gets one class right, and so on.\n",
                "\n",
                "There are lots of configuration options for presenting confusion matrices, such as displaying raw values, normalising by row/col/total, colour choices, what range of colours to use, and so on."
            ]
        },
        {
            "cell_type": "markdown",
            "metadata": {
                "slideshow": {
                    "slide_type": "slide"
                }
            },
            "source": [
                "## Decision boundaries \n",
                "\n",
                "- Neat way to visualise what your classifier might do for new points and check if you have overfit\n",
                "- Iterate over the $(x, y)$ points and see what your model assigns\n",
                "\n",
                "![](img/decision_boundaries.png)"
            ]
        },
        {
            "cell_type": "markdown",
            "metadata": {
                "slideshow": {
                    "slide_type": "notes"
                }
            },
            "source": [
                "One very intuitive way to evaluate what your classification model is doing is to draw out the decision boundaries between pairs of variables. \n",
                "\n",
                "The x and y axes in this picture are two input features, and the data is coloured by class. You can see that this model in particular seems reasonably sensible. There is one light blue region in the middle of the dark blue region which might be overfitting but otherwise the decision boundaries look visually sensible.\n",
                "\n",
                "If we are lucky to have few dimensions, this is a handy way to check in on models. "
            ]
        },
        {
            "cell_type": "markdown",
            "metadata": {
                "slideshow": {
                    "slide_type": "slide"
                }
            },
            "source": [
                "### Summary: classifiers\n",
                "\n",
                "* Classifier evaluation focus = \"How good are the labels assigned by the model?\"\n",
                "* Measure performance with metrics such as accuracy, precision, recall, F1\n",
                "    * But be aware of the class balance in the data!\n",
                "* Evaluate confidence of probabilistic classifier models with Brier score (binary) or log loss (binary or multiclass)\n",
                "* Visualise classifier outcomes vs ground truth using a confusion matrix"
            ]
        },
        {
            "cell_type": "markdown",
            "metadata": {
                "slideshow": {
                    "slide_type": "slide"
                }
            },
            "source": [
                "## Regression evaluation: error"
            ]
        },
        {
            "cell_type": "markdown",
            "metadata": {
                "slideshow": {
                    "slide_type": "-"
                }
            },
            "source": [
                "<img src=\"data:image/png;base64,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\">\n",
                "\n",
                "Regression evaluation: quantify $\\lvert y - \\hat{y} \\rvert$"
            ]
        },
        {
            "cell_type": "markdown",
            "metadata": {
                "slideshow": {
                    "slide_type": "notes"
                }
            },
            "source": [
                "Evaluating regression models is a little more straightforward, as there is no concept of true/false positives/negatives and no classes to consider.\n",
                "\n",
                "The main task is determining how far each prediction's value is from the expected value. These differences may be processed in some way and then averaged, to give a single number quantifying how good a fit the model is.\n",
                "\n",
                "As with classification, we will need a trained model which can generate a prediction $y$ for some input $x$."
            ]
        },
        {
            "cell_type": "markdown",
            "metadata": {
                "slideshow": {
                    "slide_type": "slide"
                }
            },
            "source": [
                "## Regression evaluation: error\n",
                "\n",
                "For $n$ model predictions $\\hat{y} \\in \\hat{Y}$ and ground truth $y \\in Y$ :\n",
                "\n",
                "* Mean Absolute Error: $\\frac{1}{n} \\sum_{i=0}^{n - 1} \\left| y_i - \\hat{y}_i \\right|$\n",
                "    * How close are predictions and truth, regardless of sign?\n",
                "    * Small and large errors penalised the same\n",
                "\n",
                "* Median Absolute Error: $\\text{median}(\\mid y_1 - \\hat{y}_1 \\mid, \\ldots, \\mid y_n - \\hat{y}_n \\mid)$\n",
                "    * Calculate all individual absolute errors, then select the median value\n",
                "    * Robust to outliers"
            ]
        },
        {
            "cell_type": "markdown",
            "metadata": {
                "slideshow": {
                    "slide_type": "notes"
                }
            },
            "source": [
                "MAE is the most basic error value to calculate: the average difference between predictions and ground truth.\n",
                "\n",
                "It penalises all errors to the same extent."
            ]
        },
        {
            "cell_type": "markdown",
            "metadata": {
                "slideshow": {
                    "slide_type": "slide"
                }
            },
            "source": [
                "## Regression evaluation: error\n",
                "\n",
                "For $n$ model predictions $\\hat{y} \\in \\hat{Y}$ and ground truth $y \\in Y$ :\n",
                "\n",
                "* Mean Squared Error: $\\frac{1}{n} \\sum_{i=0}^{n - 1} (y_i - \\hat{y}_i)^2$\n",
                "    * Sensitive to larger errors more than small ones, due to squaring\n",
                "\n",
                "* Root Mean Squared Error: $\\sqrt{\\frac{1}{n} \\sum_{i=0}^{n - 1} (y_i - \\hat{y}_i)^2}$\n",
                "    * Scales MSE back to match units for $y$ - interpretable\n",
                "    \n",
                "* Mean Squared Logarithmic Error: $\\frac{1}{n} \\sum_{i=0}^{n - 1} (\\log (1 + y_i) - \\log (1 + \\hat{y}_i) )^2$\n",
                "    * Similar to MSE but take the log of the prediction and ground truth\n",
                "    * Greatly penalises under-prediction compared to over-prediction "
            ]
        },
        {
            "cell_type": "markdown",
            "metadata": {
                "slideshow": {
                    "slide_type": "slide"
                }
            },
            "source": [
                "## Regression evaluation: error"
            ]
        },
        {
            "cell_type": "code",
            "execution_count": null,
            "metadata": {
                "slideshow": {
                    "slide_type": "-"
                }
            },
            "outputs": [],
            "source": [
                "# Some imaginary weights in kilograms\n",
                "true_weights = [20, 30, 25, 44, 47]\n",
                "pred_weights = [22, 31, 20, 29, 44]\n",
                "\n",
                "from sklearn.metrics import mean_squared_error\n",
                "\n",
                "mse = mean_squared_error(true_weights, pred_weights)\n",
                "\n",
                "print(f\"MSE: {mse}\")\n",
                "print(f\"RMSE: {pow(mse, 0.5):.2f}\")"
            ]
        },
        {
            "cell_type": "markdown",
            "metadata": {
                "slideshow": {
                    "slide_type": "notes"
                }
            },
            "source": [
                "MSE and RMSE are sensitive to predictions which are further away from the truth.\n",
                "\n",
                "For prediction/truth of $(3,5)$ and $(3,6)$ MSE will be 4 and 9: a difference of 5.\n",
                "\n",
                "Compare this to MAE which would be 2 and 3: a difference of only 1.\n",
                "\n",
                "RMSE will make the units of the error score match those of the original variable."
            ]
        },
        {
            "cell_type": "markdown",
            "metadata": {
                "slideshow": {
                    "slide_type": "slide"
                }
            },
            "source": [
                "## Regression evaluation: scoring\n",
                "\n",
                "* $R^2$ score: evaluate the linear relation between model predictions $\\hat{y} \\in \\hat{Y}$ and ground truth $y \\in Y$ \n",
                "    * MSE normalised by average deviation from the ground-truth mean \n",
                "    * Equal to 1.0 for a perfect relationship\n",
                "    * Always predicting the mean of all ground-truth values would score 0\n",
                "    * Can be less than 0 if the fit is worse than a horizontal line!\n",
                "    \n",
                "* Equal to $1 - \\frac{\\sum_{i=1}^{n} (y_i - \\hat{y}_i)^2}{\\sum_{i=1}^{n} (y_i - \\bar{y})^2}$\n",
                "    * Numerator is the MSE\n",
                "    * $\\bar{y}$ is the mean of the ground truth values"
            ]
        },
        {
            "cell_type": "markdown",
            "metadata": {
                "slideshow": {
                    "slide_type": "notes"
                }
            },
            "source": [
                "$R^2$ is useful for quantifying the linear relationship between predictions and true values.\n",
                "\n",
                "It's a normalised form of MSE, considering how far each prediction is from the mean of the ground truth values.\n",
                "\n",
                "This is like asking - \"If a model always predicted the mean of the ground truth, I would give it a score of 0. How does my model compare to that situation?\"\n",
                "\n",
                "If the score is less than 0, it means that the model performs worse than a horizontal line."
            ]
        },
        {
            "cell_type": "markdown",
            "metadata": {
                "slideshow": {
                    "slide_type": "slide"
                }
            },
            "source": [
                "## Regression evaluation: scoring"
            ]
        },
        {
            "cell_type": "code",
            "execution_count": null,
            "metadata": {
                "slideshow": {
                    "slide_type": "-"
                }
            },
            "outputs": [],
            "source": [
                "# Ground truth is just numbers 0 to 50, twice\n",
                "true_y = [i for i in range(50)] * 2\n",
                "# Predictions are just ground truth with a bit of noise\n",
                "pred_y = [random.gauss(mu=1, sigma=10) + i  for i in true_y]\n",
                "\n",
                "from sklearn.metrics import r2_score\n",
                "\n",
                "r2 = r2_score(true_y, pred_y)\n",
                "\n",
                "print(f\"R2: {r2}\")"
            ]
        },
        {
            "cell_type": "markdown",
            "metadata": {
                "slideshow": {
                    "slide_type": "slide"
                }
            },
            "source": [
                "## Regression evaluation: scoring\n"
            ]
        },
        {
            "cell_type": "code",
            "execution_count": null,
            "metadata": {
                "slideshow": {
                    "slide_type": "-"
                }
            },
            "outputs": [],
            "source": [
                "sns.regplot(x=true_y, y=pred_y);"
            ]
        },
        {
            "cell_type": "markdown",
            "metadata": {
                "slideshow": {
                    "slide_type": "notes"
                }
            },
            "source": [
                "R-squared is implemented in `sklearn`. Here, some random data is generated and the R-squared calculated.\n",
                "\n",
                "`Seaborn` also has a nice regression plotting function (`regplot`), which will fit a simple regression to the data.\n",
                "\n",
                "Try playing with how much noise is added to the ground truth and see how that affects R2."
            ]
        },
        {
            "cell_type": "markdown",
            "metadata": {
                "slideshow": {
                    "slide_type": "slide"
                }
            },
            "source": [
                "##\u00a0Explained variance\n",
                "\n",
                "- Explained variance is highly related to R2\n",
                "- If we say that $SSR$ = sum of squared residuals, then\n",
                "$$\n",
                "R^2 = 1 - \\frac{\\frac{\\text{SSR}}{n}}{\\text{Variance}_y}\n",
                "$$\n",
                "\n",
                "$$\n",
                "\\text{Explained variance} = 1 - \\frac{\\frac{\\text{SSR}- \\text{mean error}}{n}}{{\\text{Variance}_y}}\n",
                "$$\n",
                "\n",
                "- If these are equal, the mean error is 0 - this indicates we have an *unbiased* model"
            ]
        },
        {
            "cell_type": "markdown",
            "metadata": {
                "slideshow": {
                    "slide_type": "notes"
                }
            },
            "source": [
                "Explained variance is highly related, but slightly different, to the R2 score - the only difference is that we take into account the mean error of our predictions.\n",
                "\n",
                "If the mean of the errors is non-zero it suggests that our predictor is skewed in some direction and might be biased. If the mean of the errors is zero then the R2 and explained variance are equal."
            ]
        },
        {
            "cell_type": "markdown",
            "metadata": {
                "slideshow": {
                    "slide_type": "slide"
                }
            },
            "source": [
                "## Explained variation \n",
                "- How much of your data is captured by your model?"
            ]
        },
        {
            "cell_type": "code",
            "execution_count": null,
            "metadata": {
                "slideshow": {
                    "slide_type": "-"
                }
            },
            "outputs": [],
            "source": [
                "import numpy as np\n",
                "np.random.seed(1)\n",
                "import matplotlib.pyplot as plt\n",
                "from sklearn.linear_model import LinearRegression\n",
                "from sklearn.metrics import explained_variance_score\n",
                "from sklearn.datasets import make_regression, make_circles\n",
                "\n",
                "fig, axs = plt.subplots(1,3, figsize=(15,5))\n",
                "\n",
                "model = LinearRegression()\n",
                "\n",
                "X, y = make_regression(n_features=1, n_samples=100, noise=10)\n",
                "X = np.hstack((np.ones(X.shape), X))\n",
                "model.fit(X, y)\n",
                "sns.regplot(x=X[:,1], y=y, ax=axs[0])\n",
                "explained_variance = explained_variance_score(y, model.predict(X))\n",
                "axs[0].set_title(f\"Explained var: {str(explained_variance)[:4]} \\n R2: {str(r2_score(y, model.predict(X)))[:4]}\")\n",
                "\n",
                "\n",
                "X, y = make_circles(n_samples=100)\n",
                "model.fit(X,y)\n",
                "explained_variance = explained_variance_score(y, model.predict(X))\n",
                "axs[1].set_title(f\"Explained var: {explained_variance}\\n R2: {str(r2_score(y, model.predict(X)))[:4]}\")\n",
                "sns.regplot(x=X[:,0], y=X[:,1], ax=axs[1]);\n",
                "\n",
                "X, y = make_regression(n_features=1, n_samples=100, noise=10., bias=40)\n",
                "X = np.hstack((np.ones(X.shape), X))\n",
                "\n",
                "axs[2].scatter(X[:,1], y)\n",
                "axs[2].plot(X[:,1], model.predict(X))\n",
                "explained_variance = explained_variance_score(y, model.predict(X))\n",
                "axs[2].set_title(f\"Explained var: {str(explained_variance)[:4]}\\n R2: {str(r2_score(y, model.predict(X)))[:4]}\");"
            ]
        },
        {
            "cell_type": "markdown",
            "metadata": {
                "slideshow": {
                    "slide_type": "notes"
                }
            },
            "source": [
                "You can picture all of the points on the graphs as being mapped down from two dimensions onto the 1D line that our model defines. \n",
                "\n",
                "In the case that this mapping doesn't cause much loss of information, we say that the model **explains** the variance of the data well. \n",
                "\n",
                "Look at the left and compare it to the right. In the left, each point is mapped to its closest location on the line. This causes very little information loss between our data and the line itself. \n",
                "\n",
                "By contrast, if we mapped the data from the right onto the line, we would lose almost all of the information about the relationship between the x and y axes. \n",
                "\n",
                "We can see that fitting a line to the circles is completely the wrong model, and this is reflected in the explained variance score.\n",
                "\n",
                "\n",
                "Notice also that there is a difference between the R2 and the explained variance scores on the right hand side. This is because the model is now a *biased* model - the errors do not have a mean of zero - whereas on the other two plots, it's clear that the model is not skewed and the datapoints are symmetric around the lines."
            ]
        },
        {
            "cell_type": "markdown",
            "metadata": {
                "slideshow": {
                    "slide_type": "slide"
                }
            },
            "source": [
                "## Correlation \n",
                "To what extent are the model output and the ground truth related?"
            ]
        },
        {
            "cell_type": "code",
            "execution_count": null,
            "metadata": {
                "slideshow": {
                    "slide_type": "-"
                }
            },
            "outputs": [],
            "source": [
                "import numpy as np\n",
                "import seaborn as sns\n",
                "np.random.seed(1)\n",
                "import matplotlib.pyplot as plt\n",
                "from sklearn.linear_model import LinearRegression\n",
                "from sklearn.metrics import explained_variance_score\n",
                "from sklearn.datasets import make_regression, make_circles\n",
                "\n",
                "fig, axs = plt.subplots(1,3, figsize=(12,4))\n",
                "\n",
                "model = LinearRegression()\n",
                "\n",
                "X, y = make_regression(n_features=1, n_samples=100, noise=10)\n",
                "X = np.hstack((np.ones(X.shape), X))\n",
                "model.fit(X, y)\n",
                "sns.regplot(x=X[:,1], y=y, ax=axs[0])\n",
                "corrcoef = np.corrcoef(y, model.predict(X))[0,1]\n",
                "axs[0].set_title(f\"Pearson correlation: {str(corrcoef)[:4]} \\n R2: {str(r2_score(y, model.predict(X)))[:4]}\")\n",
                "\n",
                "\n",
                "X, y = make_circles(n_samples=100)\n",
                "model.fit(X,y)\n",
                "corrcoef = np.corrcoef(y, model.predict(X))[0,1]\n",
                "axs[1].set_title(f\"Pearson correlation: {corrcoef}\\n R2: {str(r2_score(y, model.predict(X)))[:4]}\")\n",
                "sns.regplot(x=X[:,0], y=X[:,1], ax=axs[1]);\n",
                "\n",
                "\n",
                "X, y = make_regression(n_features=1, n_samples=100, noise=10., bias=40)\n",
                "X = np.hstack((np.ones(X.shape), X))\n",
                "X[0] = 0.4999\n",
                "\n",
                "axs[2].scatter(X[:,1], y)\n",
                "axs[2].plot(X[:,1], model.predict(X))\n",
                "corrcoef = np.corrcoef(y, model.predict(X))[0,1]\n",
                "\n",
                "axs[2].set_title(f\"Pearson correlation: {str(corrcoef)[:4]}\\n R2: {str(r2_score(y, model.predict(X)))[:4]}\");"
            ]
        },
        {
            "cell_type": "markdown",
            "metadata": {
                "slideshow": {
                    "slide_type": "slide"
                }
            },
            "source": [
                "## Correlation"
            ]
        },
        {
            "cell_type": "markdown",
            "metadata": {
                "slideshow": {
                    "slide_type": "-"
                }
            },
            "source": [
                "- Model may contain desired information even if it does not accurately predict the data.\n",
                "- Correlations allow one to retrieve this weaker relationship between the model output and the ground truth.\n",
                "- Different correlation coefficients can be used for this purpose.\n",
                "- Rank-based correlations can be applied to ordinal variables - e.g. Spearman correlation coefficient: $$\\rho=1-\\frac{6\\sum d_i^2}{n(n^2-1)}, $$\n",
                "where $d_{i}$ is the difference between the two ranks of each observation and $n$ is the number of observations."
            ]
        },
        {
            "cell_type": "markdown",
            "metadata": {
                "slideshow": {
                    "slide_type": "notes"
                }
            },
            "source": [
                "- Working with correlations as a metric, it is necessary to investigate how the obtained value relates to the no-information model output. "
            ]
        },
        {
            "cell_type": "markdown",
            "metadata": {
                "slideshow": {
                    "slide_type": "slide"
                }
            },
            "source": [
                "### Summary: regression\n",
                "\n",
                "* Regression evaluation focus = \"How close to the true values are my model's predictions?\"\n",
                "* Measure performance in terms of error (lower = better): MAE, MSE, RMSE etc.\n",
                "    * But be aware of how much you want to penalise bad predictions!\n",
                "* Or in terms of score (higher = better): $R^2$"
            ]
        },
        {
            "cell_type": "markdown",
            "metadata": {
                "slideshow": {
                    "slide_type": "notes"
                }
            },
            "source": [
                "Also, it's likely that you want to actually use the model for something. Even if you have chosen the best-performing model in terms of F1 or log loss or RMSE, extrinsic evaluation asks - \"What did using this model gain for me?\""
            ]
        },
        {
            "cell_type": "markdown",
            "metadata": {
                "slideshow": {
                    "slide_type": "slide"
                }
            },
            "source": [
                "## Intrinsic vs extrinsic evaluation\n",
                "* Intrinsic evaluation: evaluate the quality of the model directly\n",
                "    * Metrics such as accuracy, mean squared error, ...\n",
                "* Extrinsic evaluation: evaluate the practical impact of the model\n",
                "    * Examples from business: customer satisfaction, revenues, or conversion rates\n",
                "    * Other practical examples: throughput, time saved, or effort saved\n",
                "* How to measure extrinsic impact?\n",
                "    * Compare the situation before deploying the model and afterwards\n",
                "    * Controlled experiments (A/B testing)"
            ]
        },
        {
            "cell_type": "markdown",
            "metadata": {
                "slideshow": {
                    "slide_type": "notes"
                }
            },
            "source": [
                "Some metrics to consider in a business setting might involve measuring customer satisfaction, revenues, or conversion rates. In more practical settings, you might be more interested in throughput, time saved, or effort saved. In order to measure extrinsic impact, you would need an idea of the situation before deploying the model and afterwards.\n",
                "\n",
                "Or you can use controlled experiments (such as A/B testing) to compare outcomes with and without a model, or to compare multiple models.\n",
                "\n",
                "Comparing multiple models in practice can be informative because a model which performs best on intrinsic evaluation may well not be the best when evaluated extrinsically!"
            ]
        },
        {
            "cell_type": "markdown",
            "metadata": {
                "slideshow": {
                    "slide_type": "slide"
                }
            },
            "source": [
                "## Jupyter Exercise\n",
                "\n",
                "Model Evaluation\n",
                "\n",
                "Open practical file `evaluation-metrics.ipynb`"
            ]
        }
    ],
    "metadata": {
        "kernelspec": {
            "display_name": "Python 3 (ipykernel)",
            "language": "python",
            "name": "python3"
        },
        "language_info": {
            "codemirror_mode": {
                "name": "ipython",
                "version": 3
            },
            "file_extension": ".py",
            "mimetype": "text/x-python",
            "name": "python",
            "nbconvert_exporter": "python",
            "pygments_lexer": "ipython3",
            "version": "3.7"
        }
    },
    "nbformat": 4,
    "nbformat_minor": 2
}