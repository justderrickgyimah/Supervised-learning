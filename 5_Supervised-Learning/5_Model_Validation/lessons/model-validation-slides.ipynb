{
    "cells": [
        {
            "cell_type": "markdown",
            "metadata": {
                "slideshow": {
                    "slide_type": "slide"
                }
            },
            "source": [
                "# Model Validation\n",
                "\n",
                "## Understanding the impact of data on performance"
            ]
        },
        {
            "cell_type": "markdown",
            "metadata": {
                "slideshow": {
                    "slide_type": "slide"
                }
            },
            "source": [
                "## Overview\n",
                "\n",
                "How can you increase your confidence in a model's performance?\n",
                "\n",
                "* Understanding model performance\n",
                "    * Overfitting, underfitting, generalisation\n",
                "* Data partitioning approaches\n",
                "    * Train/test/validation splits\n",
                "    * Cross-validation"
            ]
        },
        {
            "cell_type": "markdown",
            "metadata": {
                "slideshow": {
                    "slide_type": "notes"
                }
            },
            "source": [
                "In practical data analysis, the data we work with is only a sample of what we are interested in.\n",
                "\n",
                "For instance, we might be interested in an election turnout. It is expensive, time-consuming, and impractical to ask questions to every eligible voter. Therefore, we try to get a representative sample and work with that.\n",
                "\n",
                "Another example might be setting a manufacturing target for the next quarter. We cannot foresee the future thus can only use past/historic data to build a model to estimate future demand.\n",
                "\n",
                "The objective of this unit is to cover concepts relating to validating a model. We want a model that not only explains the data we have and but also explains what we are interested in (some quantity about the population). We use model validation to reduce our vulnerability to over-estimating a model's performance (due to some fluke of the training process) while making the most of the data that is available.\n",
                "\n",
                "\n",
                "First, we'll look at some core concepts in machine learning and how these relate to models and data. Next we will look at some methods for evaluating model's performance."
            ]
        },
        {
            "cell_type": "markdown",
            "metadata": {
                "slideshow": {
                    "slide_type": "slide"
                }
            },
            "source": [
                "## Overview\n",
                "\n",
                "* Data partitioning implications\n",
                "    * Avoiding data leakage\n",
                "* Hyperparameter tuning\n",
                "    * Finding the best settings"
            ]
        },
        {
            "cell_type": "markdown",
            "metadata": {
                "slideshow": {
                    "slide_type": "notes"
                }
            },
            "source": [
                "Then, we'll see specific situations where these methods should also be applied outside the train/test cycle.\n",
                "\n",
                "Finally, different algorithms have different parameters which may have different optimal values for your task. We will look at how to reconcile the problem of limited data with the problem of fine-tuning our models to have the best performance."
            ]
        },
        {
            "cell_type": "markdown",
            "metadata": {
                "slideshow": {
                    "slide_type": "slide"
                }
            },
            "source": [
                "## Bias and Variance\n",
                "\n",
                "\n",
                "The prediction error for any machine learning algorithm can be broken down into three parts:\n",
                "* Bias error\n",
                "* Variance error\n",
                "* Irreducible error\n",
                "\n",
                "We focus on bias and variance as the irreducible error is due to noise in the data and outside our control."
            ]
        },
        {
            "cell_type": "markdown",
            "metadata": {
                "slideshow": {
                    "slide_type": "notes"
                }
            },
            "source": [
                "As the name would suggest the irreducible error can not be reduced by altering our model regardless of the choice of the algorithm. This error arises as a result of elements outside of our control, such as statistical noise in the data. Hence we focus on reducing the  Bias and Variance errors."
            ]
        },
        {
            "cell_type": "markdown",
            "metadata": {
                "slideshow": {
                    "slide_type": "slide"
                }
            },
            "source": [
                "## Bias \n",
                "\n",
                "* Bias represents the expected (mean) difference of our predictions and the targets. \n",
                "\n",
                "\n",
                "* It can be thought of as an error arising from the simplifying assumptions made by a given model in order to arrive at the target function.\n",
                "\n",
                "\n",
                "* **Low bias**: Low bias models incorporate relatively few assumptions regarding the form of the target function. Examples of low-bias machine learning algorithms include: Decision Trees, k-Nearest Neighbors and Support Vector Machines.\n",
                "\n",
                "\n",
                "* **High bias**: High bias models incorporate more assumptions. Examples of high bias algorithms include linear and logistic regression.\n",
                "\n",
                "\n"
            ]
        },
        {
            "cell_type": "markdown",
            "metadata": {
                "slideshow": {
                    "slide_type": "slide"
                }
            },
            "source": [
                "## Variance\n",
                "\n",
                "\n",
                "* Variance refers to the variability in model prediction depending on the training data i.e. how much the target function will alter if different portions of the training data are used.\n",
                "\n",
                "\n",
                "* If an algorithm successfully identifies the relationships between input and output variables, then altering which portion of the training data is used should have little impact on the predicted function. This would be a low variance model.\n",
                "\n",
                "\n",
                "* Alternatively the predictions of a high variance model will vary greatly depending on the training data used."
            ]
        },
        {
            "cell_type": "markdown",
            "metadata": {
                "slideshow": {
                    "slide_type": "slide"
                }
            },
            "source": [
                "## Bias/Variance tradeoff\n",
                "\n",
                "- We want our models to **both**: \n",
                "    - (a) accurately explain (capture patterns in) the training data \n",
                "    - (b) generalise to new data\n",
                "    \n",
                "![](img/bias_variance.png)\n",
                " "
            ]
        },
        {
            "cell_type": "code",
            "execution_count": null,
            "metadata": {
                "slideshow": {
                    "slide_type": "skip"
                }
            },
            "outputs": [],
            "source": [
                "import numpy as np\n",
                "\n",
                "# Create data\n",
                "x = [2, 3, 5, 7, 10, 13, 16, 18]\n",
                "y = [95, 80, 67, 69, 65, 70, 79, 90]\n",
                "\n",
                "xp = np.linspace(2, 22, 100)"
            ]
        },
        {
            "cell_type": "markdown",
            "metadata": {
                "slideshow": {
                    "slide_type": "slide"
                }
            },
            "source": [
                "## Bias/Variance tradeoff"
            ]
        },
        {
            "cell_type": "code",
            "execution_count": null,
            "metadata": {
                "slideshow": {
                    "slide_type": "-"
                }
            },
            "outputs": [],
            "source": [
                "z1 = np.polyfit(x, y, 1) # fit polynomial of degree 1\n",
                "p1 = np.poly1d(z1)\n",
                "\n",
                "z2 = np.polyfit(x, y, 2) # fit polynomial of degree 2\n",
                "p2 = np.poly1d(z2)\n",
                "\n",
                "z7 = np.polyfit(x, y, 7) # fit polynomial of degree 7\n",
                "p7 = np.poly1d(z7)"
            ]
        },
        {
            "cell_type": "code",
            "execution_count": null,
            "metadata": {
                "slideshow": {
                    "slide_type": "-"
                }
            },
            "outputs": [],
            "source": [
                "import matplotlib.pyplot as plt\n",
                "\n",
                "plt.figure(figsize=(10,6))\n",
                "_ = plt.plot(x, y, 'o', xp, p1(xp), '-', xp, p2(xp), '--', xp, p7(xp), '-.')\n",
                "plt.ylim(60,110)\n",
                "plt.grid(color='lightgray')\n",
                "plt.show()\n"
            ]
        },
        {
            "cell_type": "markdown",
            "metadata": {
                "slideshow": {
                    "slide_type": "notes"
                }
            },
            "source": [
                "Consider the above example, where we want to train a model to fit 8 data points.\n",
                "\n",
                "If we fit a linear regression (polynomial of degree 1), we get the orange line, which is a poor fit.\n",
                "\n",
                "With a polynomial of degree 2, we get the green line that seems like is a good fit.\n",
                "\n",
                "With a polynomial of degree 7 (the red line), we get a 'perfect' fit, which is not necessarily a good thing. In fact, we can have a perfect fit because we have 8 data points and 8 parameters. This model overfit the training data and is unlikely to generalise well to unseen data. \n",
                "\n",
                "In terms of bias and variance, the linear regression (orange) line has a slope of 0.01 (near 0) thus almost always predicts the same $y$ for an input $x$. There is very little variation in the prediction, i.e. low variance, and we might say that the model is biased towards predicting the $y$ value it always predicts. \n",
                "\n",
                "The red line, by contrast, is the extreme of no bias (since it is a perfect fit). However, it has clearly overfit to noise in the data instead of learning a general function. "
            ]
        },
        {
            "cell_type": "markdown",
            "metadata": {
                "slideshow": {
                    "slide_type": "slide"
                }
            },
            "source": [
                "## Bias/Variance trade-off\n",
                "\n",
                "- We can reveal the bias/variance trade-off explicitly by decomposing the mean square error for our model.\n",
                "- Say our target (dependent variable) is $y$ and explanatory variable is $x$, and we want to learn $f(x)$ that predicts $y$.\n",
                "- The mean squared error (MSE) for $f$ can be rewritten as:\n",
                "\\begin{equation}\n",
                "\\begin{split} \n",
                "MSE(f(x)) &= E[(f(x)-y)^2]\n",
                "&=\\text{Var}(f(x))+\\left[\\text{Bias}f(x)\\right]^2+\\text{Var}(\\epsilon)\n",
                "\\end{split}\n",
                "\\end{equation}\n",
                "    where $\\epsilon$ is the random noise in the data."
            ]
        },
        {
            "cell_type": "markdown",
            "metadata": {
                "slideshow": {
                    "slide_type": "notes"
                }
            },
            "source": [
                "This way of writing MSE as the sum of the bias and variance of our model is often known as the bias\u2013variance decomposition.\n",
                "\n",
                "The variance is the expectation of the squared difference between the mean prediction and the prediction for a single datapoint. \n",
                "\n",
                "Bias represents the expected (mean) difference of our predictions and the targets.\n",
                "\n",
                "The final part is the variance of the irreducible error that arise due to the noise in the data.\n",
                "\n",
                "The bias\u2013variance decomposition forms the conceptual basis for regression regularization methods such as Lasso and ridge regression. Regularization methods introduce bias into the regression solution that can reduce variance considerably relative to the ordinary least squares (OLS) solution. Although the OLS solution provides non-biased regression estimates, the lower variance solutions produced by regularization techniques provide superior MSE performance."
            ]
        },
        {
            "cell_type": "markdown",
            "metadata": {
                "slideshow": {
                    "slide_type": "slide"
                }
            },
            "source": [
                "## When is a model \"good\"?\n",
                "\n",
                "* Complex model has learned the training data perfectly\n",
                "* Overfitting: we have unknowingly learned noise\n",
                "* How will it perform on new data?"
            ]
        },
        {
            "cell_type": "code",
            "execution_count": null,
            "metadata": {
                "slideshow": {
                    "slide_type": "-"
                }
            },
            "outputs": [],
            "source": [
                "x_new = [19, 21]\n",
                "y_new = [101, 105]\n",
                "\n",
                "plt.figure(figsize=(10,6))\n",
                "_ = plt.plot(x, y, 'o', x_new, y_new, 'v',  xp, p7(xp), '-.')\n",
                "plt.ylim(60,110)\n",
                "plt.grid(color='lightgray')\n",
                "plt.show()"
            ]
        },
        {
            "cell_type": "markdown",
            "metadata": {
                "slideshow": {
                    "slide_type": "notes"
                }
            },
            "source": [
                "When a model perfectly represents its training data (perhaps because the model is overly complex or the data just happens to be very easy to represent), it can be said to have overfit the data.\n",
                "\n",
                "The issue with this becomes obvious when new data is introduced, which does not exactly match the training data's characteristics. Now your model which you thought was perfect has some serious issues...\n",
                "\n",
                "Overfitting happens when a model learns the specific properties of the particular training examples it has seen, rather than the more general patterns that might exist."
            ]
        },
        {
            "cell_type": "markdown",
            "metadata": {
                "slideshow": {
                    "slide_type": "slide"
                }
            },
            "source": [
                "## When is a model \"good\"?\n",
                "\n",
                "* Model is too simple, can't capture the actual properties of the data\n",
                "    * Underfitting"
            ]
        },
        {
            "cell_type": "code",
            "execution_count": null,
            "metadata": {
                "scrolled": true,
                "slideshow": {
                    "slide_type": "-"
                }
            },
            "outputs": [],
            "source": [
                "plt.figure(figsize=(10,6))\n",
                "_ = plt.plot(x, y, 'o', x_new, y_new, 'v',  xp, p1(xp), '-.')\n",
                "plt.ylim(60,110)\n",
                "plt.grid(color='lightgray')\n",
                "plt.show()"
            ]
        },
        {
            "cell_type": "markdown",
            "metadata": {
                "slideshow": {
                    "slide_type": "notes"
                }
            },
            "source": [
                "However, if the model is not complex enough, then it can't represent the data at all. \n",
                "\n",
                "And it probably will not do well at all on new data either.\n",
                "\n",
                "Underfitted models usually have high bias and low variance."
            ]
        },
        {
            "cell_type": "markdown",
            "metadata": {
                "slideshow": {
                    "slide_type": "slide"
                }
            },
            "source": [
                "## Model complexity \n",
                "- If the model has more parameters than datapoints it is called *under-determined* \n",
                "    - If we have more parameters than datapoints, $X^\\top X$ is not invertible\n",
                "    - The OLS solution for linear regression is $\\hat{\\beta} = (X^TX)^{-1}X^Ty$ \n",
                "- Need to either increase the complexity of the data (via augmentation) or reduce the capacity of the model (via regularization)\n"
            ]
        },
        {
            "cell_type": "markdown",
            "metadata": {
                "slideshow": {
                    "slide_type": "notes"
                }
            },
            "source": [
                "One common property of modern machine learning models (which tend to be very large) is that they have more parameters than datapoints to be trained on. We call this an under-determined system. For example, for linear regression, the ordinary least square solution involves $(X^TX)^{-1}$ which is not invertible. \n",
                "\n",
                "In order to address this we need to do one of two things: a) add more complexity to the data (e.g. by injecting random noise), or b) reduce the capacity of the model (e.g. by introducing regularization terms)."
            ]
        },
        {
            "cell_type": "markdown",
            "metadata": {
                "slideshow": {
                    "slide_type": "slide"
                }
            },
            "source": [
                "## Generalization"
            ]
        },
        {
            "cell_type": "markdown",
            "metadata": {
                "slideshow": {
                    "slide_type": "-"
                }
            },
            "source": [
                "Model not too complex or too simple\n",
                "* Able to capture patterns in the data\n",
                "\n",
                "Model hasn't \"memorized\" the data\n",
                "* Able to cope with unseen data\n",
                "\n",
                "<img src=\"data:image/png;base64,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\">"
            ]
        },
        {
            "cell_type": "markdown",
            "metadata": {
                "slideshow": {
                    "slide_type": "notes"
                }
            },
            "source": [
                "The ideal situation is when a model is not too complex or too simple and hasn't essentially memorized the data it has seen.\n",
                "\n",
                "A model which has the capacity to learn patterns in data and apply it to unseen data is said \"to generalize\"."
            ]
        },
        {
            "cell_type": "markdown",
            "metadata": {
                "slideshow": {
                    "slide_type": "slide"
                }
            },
            "source": [
                "## Generalization"
            ]
        },
        {
            "cell_type": "markdown",
            "metadata": {
                "slideshow": {
                    "slide_type": "-"
                }
            },
            "source": [
                "Model not too complex or too simple\n",
                "* Able to capture patterns in the data\n",
                "\n",
                "Model hasn't \"memorized\" the data\n",
                "* Able to cope with unseen data\n",
                "\n",
                "<img src=\"data:image/png;base64,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\">"
            ]
        },
        {
            "cell_type": "markdown",
            "metadata": {
                "slideshow": {
                    "slide_type": "notes"
                }
            },
            "source": [
                "\n",
                "Let's say we have a model which we train with some data.\n",
                "\n",
                "We measure the performance of the model (here, it's the error but could also be accuracy or any other metric) in two ways: by seeing how well the model does when tested using the data it was trained on, and how it does when tested on completely new, unseen, data.\n",
                "\n",
                "However, on the unseen data (which the model is never allowed to learn from) error starts to go up, because the model has lost its capacity to generalize. It has learned the exact properties of the training data.\n",
                "\n",
                "Slight differences between the training data and unseen data now cause problems for the model.\n"
            ]
        },
        {
            "cell_type": "markdown",
            "metadata": {
                "slideshow": {
                    "slide_type": "slide"
                }
            },
            "source": [
                "## Generalization"
            ]
        },
        {
            "cell_type": "code",
            "execution_count": null,
            "metadata": {
                "slideshow": {
                    "slide_type": "-"
                }
            },
            "outputs": [],
            "source": [
                "def error(pol_n):\n",
                "    zn = np.polyfit(x, y, pol_n) # fit polynomial of degree n\n",
                "    pn = np.poly1d(zn)\n",
                "    train_error = ((pn(x) - y)**2).sum()\n",
                "    test_error = ((pn(x_new) - y_new)**2).sum()\n",
                "    return train_error, test_error"
            ]
        },
        {
            "cell_type": "code",
            "execution_count": null,
            "metadata": {
                "slideshow": {
                    "slide_type": "-"
                }
            },
            "outputs": [],
            "source": [
                "pol_ns = [1,2,3,5,6]\n",
                "errors = np.array([error(pol_n) for pol_n in pol_ns])\n",
                "\n",
                "plt.plot(pol_ns,errors[:,0])\n",
                "plt.plot(pol_ns,errors[:,1])\n",
                "plt.xlabel(\"Poly degree n\")\n",
                "plt.ylabel(\"Error\")\n",
                "plt.legend([\"Train error\", \"Test error\"]);"
            ]
        },
        {
            "cell_type": "markdown",
            "metadata": {
                "slideshow": {
                    "slide_type": "slide"
                }
            },
            "source": [
                "## Generalization\n",
                "\n",
                "- Best model"
            ]
        },
        {
            "cell_type": "code",
            "execution_count": null,
            "metadata": {
                "slideshow": {
                    "slide_type": "-"
                }
            },
            "outputs": [],
            "source": [
                "plt.figure(figsize=(10,6))\n",
                "_ = plt.plot(x, y, 'o', x_new, y_new, 'v',  xp, p2(xp), '-.')\n",
                "plt.ylim(60,110)\n",
                "plt.grid(color='lightgray')\n",
                "plt.show()"
            ]
        },
        {
            "cell_type": "markdown",
            "metadata": {
                "slideshow": {
                    "slide_type": "slide"
                }
            },
            "source": [
                "## True risk vs. empirical risk\n",
                "\n",
                "- We can formalize the goal of optimizing our model for unseen data\n",
                "- The true risk is defined as the expected loss over all possible data: $$R_{true} = E_{x \\sim P(X)}[L(x)]$$\n",
                "\n",
                "- Since we don't know the true distribution of data, we have to optimize our model based on the training data, minimizing the empirical risk: $$R_{emp} = \\frac{1}{N_{train}} \\sum_{train} L(x_{train})$$\n",
                "\n",
                "- And estimate true risk by calculating its performance on the test data: $$\\hat{R}_{true} = \\frac{1}{N_{test}} \\sum_{test} L(x_{test})$$\n"
            ]
        },
        {
            "cell_type": "markdown",
            "metadata": {
                "slideshow": {
                    "slide_type": "slide"
                }
            },
            "source": [
                "## Data partitioning\n",
                "\n",
                "Avoid overfitting: split up your data"
            ]
        },
        {
            "cell_type": "markdown",
            "metadata": {
                "slideshow": {
                    "slide_type": "-"
                }
            },
            "source": [
                "Training (70% to 90%)\n",
                "- The data the model will learn from\n",
                "\n",
                "Testing (5% to 15%)\n",
                "- Data used to measure model's performance\n",
                "\n",
                "Validation (5% to 15%)\n",
                "- Data used to fine-tune the model\n",
                "\n",
                "<img src=\"data:image/png;base64,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\">"
            ]
        },
        {
            "cell_type": "markdown",
            "metadata": {
                "slideshow": {
                    "slide_type": "notes"
                }
            },
            "source": [
                "Overfitting is generally more of a problem than underfitting. The most common approach to avoiding it is to partition data into two or three sets.\n",
                "\n",
                "The training data is the largest set and is used by the model to learn the properties of the data.\n",
                "\n",
                "The testing data should never be seen by the model during training. It should only be used to evaluate model's performance.\n",
                "\n",
                "The validation set is used to fine-tune model hyperparameters. For example, neural network architectures generally have many settings that can be tweaked, while others may have few. Finding the optimal values for these can improve model's performance.\n",
                "\n",
                "There are some other terms used (such as development set) and some people use test/validation the other way round.\n",
                "\n",
                "But the key idea here is that you can avoid overfitting if you evaluate your model using data which is totally separate from your training data.\n",
                "\n",
                "The exact proportions will depend on the size of your dataset. For large datasets you can use smaller percentages for testing/validation, but with smaller datasets you may need a larger percentage for testing to ensure the number of test items is reasonable."
            ]
        },
        {
            "cell_type": "markdown",
            "metadata": {
                "slideshow": {
                    "slide_type": "slide"
                }
            },
            "source": [
                "## Data partitioning: be careful\n",
                "\n",
                "* Data is often pre-processed\n",
                "    * Imputing missing values\n",
                "    * Normalising values to share a scale\n",
                "* Don't use the whole dataset for this!\n",
                "* Use only the training set to fit the pre-processing tools on the training set and transform the test set."
            ]
        },
        {
            "cell_type": "markdown",
            "metadata": {
                "slideshow": {
                    "slide_type": "notes"
                }
            },
            "source": [
                "One thing to be wary of is letting data leak between your partitions.\n",
                "\n",
                "For example, if your dataset has a column for \"cost\" but some are missing, you can impute the missing values by using the mean of that column.\n",
                "\n",
                "Or, as is more common in machine learning, you can rescale column values so that they are all in the same range. This makes it easier to interpret some models, as all feature weights are also scaled to the same range.\n",
                "\n",
                "This should be done per data partition, so that each partition is pre-processed using its individual characteristics. "
            ]
        },
        {
            "cell_type": "markdown",
            "metadata": {
                "slideshow": {
                    "slide_type": "slide"
                }
            },
            "source": [
                "## Data partitioning: be careful\n",
                "\n",
                "* If the data is time series, watch out for the look-ahead bias - always train models on the past data.\n",
                "* It is good practice to shuffle the data before partitioning for multiple purposes:\n",
                "    - Makes sure that there is no order in the data\n",
                "    - Avoids any biases from the data collection / dataset design\n",
                "* Things to watch out for when shuffling:\n",
                "    * Do not shuffle time series data before performing cross-validation!\n",
                "    * For non-time series data: make sure that your data is IID (Independent and Identically Distributed). If not, make sure that you do not have dependent entries across the splits."
            ]
        },
        {
            "cell_type": "markdown",
            "metadata": {
                "slideshow": {
                    "slide_type": "notes"
                }
            },
            "source": [
                "- **Data non-stationarity** - in its simplest definition, the data is considered stationary when its mean and variance does not differ when sampling with uniform distribution, without replacement. \n",
                "    - Talking about the time series: mean and variance are supposed to be constant in time.\n",
                "\n",
                "- **Independent entries** in the data - the observations should not come from repeated measurements or matched data. This might include correlated time series, where each point in time across all the time series is a source of dependent entries due to their correlation. The other very common example is duplicates in the dataset - if such a dataset is partitioned before they are removed, it would lead to the data leakage. "
            ]
        },
        {
            "cell_type": "markdown",
            "metadata": {
                "slideshow": {
                    "slide_type": "slide"
                }
            },
            "source": [
                "## Shuffling  data in python\n",
                "\n",
                "* When training a neural network and the order of data within each epoch is the same, then the model may exploit it to reduce the training error, but fail to generalise later.\n",
                "\n",
                "\n",
                "* Such overfitting may occur if your data is sorted by class or target.\n",
                "\n",
                "\n",
                "* Shuffling data serves the purpose of reducing variance and ensuring the train, test, and validation sets resulting from splitting are representative of the overall distribution of the data."
            ]
        },
        {
            "cell_type": "markdown",
            "metadata": {
                "slideshow": {
                    "slide_type": "slide"
                }
            },
            "source": [
                "## Splitting up data in python"
            ]
        },
        {
            "cell_type": "code",
            "execution_count": null,
            "metadata": {
                "slideshow": {
                    "slide_type": "-"
                }
            },
            "outputs": [],
            "source": [
                "from sklearn.model_selection import train_test_split\n",
                "\n",
                "x = [1.1, 1.2, 0.2, 0.1, 0.3, 1.5, 1.7, 1.6, 0.4, 0.5]\n",
                "y = ['A', 'A', 'B', 'B', 'B', 'A', 'A', 'A', 'B', 'B']\n",
                "\n",
                "comb_x = x + x_new\n",
                "comb_y = y + y_new\n",
                "\n",
                "x_train, x_test, y_train, y_test = train_test_split(x, y, train_size=0.6, random_state=1)\n",
                "\n",
                "x_val, x_test, y_val, y_test = train_test_split(x_test, y_test, test_size=0.5, random_state=1)\n",
                "\n",
                "x_train, x_test, y_train, y_test, x_val, y_val"
            ]
        },
        {
            "cell_type": "markdown",
            "metadata": {
                "slideshow": {
                    "slide_type": "notes"
                }
            },
            "source": [
                "`sklearn` makes it easy to split data up into train/test: just pass your inputs (`x`) and outputs (`y`) to `train_test_split`, and tell it how much to use as testing or training.\n",
                "\n",
                "This returns four new lists: `x`/`y` for training, and `x`/`y` for testing.\n",
                "\n",
                "Each is just a random subset of the original. However, if you set the `random_state` argument to a fixed value, the outcome will always be the same each time you make the lists. This can be useful for exactly reproducing results later on, by making sure the same random splits happen each time.\n",
                "\n",
                "If you want a validation set, then you can use the same function but pass it the test `x`/`y` and split it into two halves.\n",
                "\n",
                "The end result is three sets of data, each composed of the inputs (`x`) and outputs (`y`), with the proportions 60/20/20."
            ]
        },
        {
            "cell_type": "markdown",
            "metadata": {
                "slideshow": {
                    "slide_type": "slide"
                }
            },
            "source": [
                "## Cross-validation\n",
                "\n",
                "* Train/test split uses only part of data to train (e.g. 80%)\n",
                "* Can we create multiple splits, to use the whole data for training?\n",
                "* Technique: cross-validation\n",
                "\n",
                "<img src=\"data:image/png;base64,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\">"
            ]
        },
        {
            "cell_type": "markdown",
            "metadata": {
                "slideshow": {
                    "slide_type": "slide"
                }
            },
            "source": [
                "## Cross-validation\n",
                "\n",
                "* Exhaustive: leave $n$ out\n",
                "    * $p$ data points, create $C^{p}_{n}$ splits of size $p-n$ and $n$\n",
                "    * For $p=100$ and $n=10$, number of splits is 17,310,309,456,440\n",
                "* Non-exhaustive:\n",
                "    * $k$ fold CV - split data into $k$ partitions, $k-1$ partitions are used for training and 1 partition is used for testing\n",
                "    * Subsets can be random or stratified"
            ]
        },
        {
            "cell_type": "markdown",
            "metadata": {
                "slideshow": {
                    "slide_type": "notes"
                }
            },
            "source": [
                "There are two forms of cross-validation.\n",
                "\n",
                "In exhaustive cross-validation, every data point gets a turn at being in the training set and in the test set. The test set can be any number between $1$ and $p-1$. For a small dataset of 100, using 10 for testing, there are over 17 trillion combinations. It's probably not feasible to train that many models, just to make sure you haven't overfitted...\n",
                "\n",
                "Instead, non-exhaustive approaches are more commonly used. Here, you determine how many data subsets you will create and use those to train and evaluate your model. The number of subsets you select usually depends on how long training the model takes.\n",
                "\n",
                "The subsets can be random: there is no consideration of which data points go into test/train.\n",
                "\n",
                "Or they can be stratified: the train/test splits have an equal balance of the classes (for classification tasks) or have similar means (for regression tasks). This can help avoid train/tests splits that are imbalanced or noisy."
            ]
        },
        {
            "cell_type": "markdown",
            "metadata": {
                "slideshow": {
                    "slide_type": "slide"
                }
            },
            "source": [
                "## Choosing $k$ in $k$-fold cross validation"
            ]
        },
        {
            "cell_type": "markdown",
            "metadata": {
                "slideshow": {
                    "slide_type": "-"
                }
            },
            "source": [
                "- Estimate prediction error as average error of validation sets over all splits.\n",
                "- Typical choice of $k$ are $k=5$ and $k=10$.\n",
                "- Larger $k$ means less bias towards overestimating the true expected error, but higher running time. \n",
                "- In the extreme case of $k=n$, you get Leave-One-Out CV.\n"
            ]
        },
        {
            "cell_type": "code",
            "execution_count": null,
            "metadata": {
                "slideshow": {
                    "slide_type": "skip"
                }
            },
            "outputs": [],
            "source": [
                "from sklearn.model_selection import KFold\n",
                "import numpy as np"
            ]
        },
        {
            "cell_type": "markdown",
            "metadata": {
                "slideshow": {
                    "slide_type": "slide"
                }
            },
            "source": [
                "## Cross-validation in sklearn"
            ]
        },
        {
            "cell_type": "code",
            "execution_count": null,
            "metadata": {
                "slideshow": {
                    "slide_type": "-"
                }
            },
            "outputs": [],
            "source": [
                "x = np.array([1.1, 1.2, 1.5, 1.7, 1.6, 0.4, 0.5, 0.2, 0.1, 0.3])\n",
                "y = np.array(['A', 'A', 'A', 'A', 'A', 'B', 'B', 'B', 'B', 'B'])\n",
                "\n",
                "kf5 = KFold(n_splits=5)"
            ]
        },
        {
            "cell_type": "code",
            "execution_count": null,
            "metadata": {
                "slideshow": {
                    "slide_type": "-"
                }
            },
            "outputs": [],
            "source": [
                "for (train, test) in kf5.split(x,y):\n",
                "    print(f'Training: {x[train]} \\t Testing: {x[test]}', '\\n')\n",
                "    print(f'Training: {y[train]} \\t Testing: {y[test]}', '\\n')"
            ]
        },
        {
            "cell_type": "markdown",
            "metadata": {
                "slideshow": {
                    "slide_type": "notes"
                }
            },
            "source": [
                "`sklearn` has useful classes for putting cross-validation into practice. And many algorithms in `sklearn` can be directly configured to do cross-validation for you.\n",
                "\n",
                "The `sklearn.model_selection` module can be used to directly implement CV, for instance, `.KFold` returns an object with specified $k$. `.split()` can then be used to pass in `x`/`y` data and return subsets of data.\n",
                "\n",
                "Here's an example of `KFold`.\n",
                "\n",
                "Input/output pairs are in `numpy` arrays. `KFold` returns indices against these arrays, to select subsets.\n",
                "\n",
                "The output is deterministic as the folds are the same every time. However, if you want to shuffle the items within each fold, there is a shuffle argument. This is `False` by default. Use `random_state` to ensure the same shuffling each time, as with `train_test_split`."
            ]
        },
        {
            "cell_type": "code",
            "execution_count": null,
            "metadata": {
                "slideshow": {
                    "slide_type": "skip"
                }
            },
            "outputs": [],
            "source": [
                "from sklearn.model_selection import StratifiedKFold"
            ]
        },
        {
            "cell_type": "markdown",
            "metadata": {
                "slideshow": {
                    "slide_type": "slide"
                }
            },
            "source": [
                "## Stratified k-fold"
            ]
        },
        {
            "cell_type": "code",
            "execution_count": null,
            "metadata": {
                "slideshow": {
                    "slide_type": "-"
                }
            },
            "outputs": [],
            "source": [
                "x = np.array([1.1, 1.2, 1.5, 1.7, 1.6, 0.4, 0.5, 0.2, 0.1, 0.3])\n",
                "y = np.array(['A', 'A', 'A', 'A', 'A', 'B', 'B', 'B', 'B', 'B'])\n",
                "\n",
                "skf5 = StratifiedKFold(n_splits=5)"
            ]
        },
        {
            "cell_type": "code",
            "execution_count": null,
            "metadata": {
                "slideshow": {
                    "slide_type": "-"
                }
            },
            "outputs": [],
            "source": [
                "for (train, test) in skf5.split(x,y):\n",
                "    print(f'Training: {x[train]} \\t Testing: {x[test]}', '\\n')\n",
                "    print(f'Training: {y[train]} \\t Testing: {y[test]}', '\\n')"
            ]
        },
        {
            "cell_type": "markdown",
            "metadata": {
                "slideshow": {
                    "slide_type": "notes"
                }
            },
            "source": [
                "In the previous example, we only had two classes - A and B - and a lot of the splits only had 1 class in the test set. This example is extreme because the test size is only 2 but in any case, there might be situations where we want to ensure various classes in the test set. One can do so by using ` sklearn.model_selection.StratifiedKFold` to preserve the percentage of samples for each class.\n",
                "\n",
                "You can see how Stratified KFold balances the number of examples of A and B in all train and test splits.\n",
                "\n",
                "This is important when there are unbalanced classes, with few samples of a specific class. Stratified KFold makes sure there are samples of rare classes in all the training sets.\n",
                "\n",
                "Again, if you set `shuffle=True` then you can also set `random_state` to a fixed value to get the same outcome each time."
            ]
        },
        {
            "cell_type": "markdown",
            "metadata": {
                "slideshow": {
                    "slide_type": "slide"
                }
            },
            "source": [
                "## Cross-validation: reporting\n",
                "\n",
                "* Training multiple models with cross-validation = multiple scores/metrics/etc.\n",
                "* Report the mean and standard deviation\n",
                "* `stdev` informs how dependent the performance is on the data split"
            ]
        },
        {
            "cell_type": "code",
            "execution_count": null,
            "metadata": {
                "slideshow": {
                    "slide_type": "skip"
                }
            },
            "outputs": [],
            "source": [
                "import random as r, seaborn as sns, pandas as pd\n",
                "\n",
                "model_a = pd.DataFrame([{'model':\"A\", 'acc':min(r.gauss(80, 20), 100)} for i in range(5)])\n",
                "model_b = pd.DataFrame([{'model':\"B\", 'acc':min(r.gauss(70, 5), 100)} for i in range(5)])\n",
                "\n",
                "data = pd.concat([model_a, model_b])"
            ]
        },
        {
            "cell_type": "code",
            "execution_count": null,
            "metadata": {
                "slideshow": {
                    "slide_type": "-"
                }
            },
            "outputs": [],
            "source": [
                "data.groupby('model').describe()"
            ]
        },
        {
            "cell_type": "markdown",
            "metadata": {
                "slideshow": {
                    "slide_type": "notes"
                }
            },
            "source": [
                "You've used cross-validation to train a binary classification model multiple times, measuring accuracy each time. How do you interpret and report all the numbers?\n",
                "\n",
                "Simply report the mean accuracy and its standard deviation. If you have different kinds of model you are evaluating, this can be done neatly in a table.\n",
                "\n",
                "Or you can visualise it in a chart, with error bars.\n",
                "\n",
                "We've generated some imaginary performance data for two models here, trained using 5-fold cross-validation.\n",
                "\n",
                "The table reports the mean, std and min/max accuracy for each model. This gives you an exact detailed overview of performance.\n",
                "\n",
                "It generally shows that while model A gets slightly higher mean accuracy, there is more variation based on which data it is trained on. Model B scores lower but is more consistent. This information can help you decide which model is best suited to your needs.\n"
            ]
        },
        {
            "cell_type": "markdown",
            "metadata": {
                "slideshow": {
                    "slide_type": "slide"
                }
            },
            "source": [
                "### Cross-validation: reporting"
            ]
        },
        {
            "cell_type": "code",
            "execution_count": null,
            "metadata": {
                "scrolled": true,
                "slideshow": {
                    "slide_type": "-"
                }
            },
            "outputs": [],
            "source": [
                "sns.barplot(data=data, x='model', y='acc', ci='sd');"
            ]
        },
        {
            "cell_type": "markdown",
            "metadata": {
                "slideshow": {
                    "slide_type": "notes"
                }
            },
            "source": [
                "Note: you can generate your own charts with just the mean/stdev figures, but `seaborn`'s `barplot` will calculate and plot all this automatically if you pass it the raw data. Just set `ci` to `\"sd\"` to use standard deviation rather than 95% confidence intervals, unless you do actually want confidence intervals!\n",
                "\n",
                "Here, the bar chart shows the mean accuracy with an error bar representing the standard deviation. This communicates how the two models compare in a much quicker manner, more suited to slides/presentations than a table full of numbers."
            ]
        },
        {
            "cell_type": "markdown",
            "metadata": {
                "slideshow": {
                    "slide_type": "slide"
                }
            },
            "source": [
                "## Choosing an evaluation metric\n",
                "\n",
                "Key factors:\n",
                "\n",
                "* The problem that we are trying to solve (e.g. classification or regression) \n",
                "\n",
                "* The training data characteristics - balanced or imbalanced class labels or target variable distribution\n",
                "\n",
                "* Domain - whether false negatives are important for us (explosives detection at the airport, as an example)\n",
                "\n",
                "Also depends on the type of classification models:\n",
                "* Deterministic: the same input gives the same output (no randomness included)\n",
                "* Probabilistic: the same input might give different output (randomness included)"
            ]
        },
        {
            "cell_type": "markdown",
            "metadata": {
                "slideshow": {
                    "slide_type": "notes"
                }
            },
            "source": [
                "Note: probabilisitic and deterministic model types might have a different meaning. Namely, they might define whether the predictions are drawn from the distribution which describes the training data (Bayesian style) or from the actual training data. However, this is out of the scope of the current module and we stick to the initial definition throughout the module."
            ]
        },
        {
            "cell_type": "markdown",
            "metadata": {
                "slideshow": {
                    "slide_type": "slide"
                }
            },
            "source": [
                "## Evaluation criterion for classification\n",
                "\n",
                "- For classification, an obvious criterion is classification accuracy (balanced accuracy), which evaluates predictive power in terms of the proportion of correctly classified observations calculated among all observations. \n",
                "\n",
                "- This might not be so informative when the classes are imbalanced (e.g. when one class is only 10% of data then the classification accuracy of any model is higher than 90%).\n",
                "\n",
                "- Other criteria include the **true positive rate** (TPR) and **false positive rate** (FPR) where\n",
                "\\begin{align*}\n",
                "TPR &= \\frac{TP \\  (\\text{true positives})} {TP + FN  \\ (\\text{false negatives})}  = \\text{sensitivity} = \\text{recall}, \\\\\n",
                "FPR &= \\frac{FN}{FP  \\ (\\text{false positives}) + TN  \\ (\\text{true negatives})} = 1 - \\text{specificity}.\n",
                "\\end{align*}\n",
                "- TPR describes how good the model is at predicting the positive class when the actual output is positive and the FPR summarises how often a positive class is predicted when the actual outcome is negative. \n"
            ]
        },
        {
            "cell_type": "markdown",
            "metadata": {
                "slideshow": {
                    "slide_type": "slide"
                }
            },
            "source": [
                "## Evaluation criterion for classification\n",
                "\n",
                "- The TPR is also known as **sensitivity** or **recall**. Recall is frequently used with **precision**, which describes how good the model is at predicting the positive class and can be calculated by\n",
                "\\begin{align*}\n",
                "\\text{Precision} = \\frac{TP}{TP + FP}.\n",
                "\\end{align*}\n",
                "- The **F-measure** is a composite measure combining precision and recall and penalizing extreme values. In the most commonly-used form of F-measure (in which it is the harmonic mean of precision and recall), recall is weighted twice as important as precision, expressed by\n",
                "\\begin{align*}\n",
                "\\text{F-measure} = \\frac{2 \\times \\text{Precision} \\times \\text{Recall}} {\\text{Precision} + \\text{Recall}}.\n",
                "\\end{align*}\n"
            ]
        },
        {
            "cell_type": "markdown",
            "metadata": {
                "slideshow": {
                    "slide_type": "slide"
                }
            },
            "source": [
                "### Cross-validation: full example"
            ]
        },
        {
            "cell_type": "code",
            "execution_count": null,
            "metadata": {
                "slideshow": {
                    "slide_type": "-"
                }
            },
            "outputs": [],
            "source": [
                "from sklearn.neighbors import KNeighborsClassifier as KNN\n",
                "from sklearn.model_selection import cross_validate, StratifiedKFold\n",
                "from sklearn import datasets \n",
                "\n",
                "data = datasets.load_wine()\n",
                "model = KNN()"
            ]
        },
        {
            "cell_type": "markdown",
            "metadata": {
                "slideshow": {
                    "slide_type": "notes"
                }
            },
            "source": [
                "Here is a full example of using cross-validation and getting results for accuracy, precision, recall, and F1 for each fold.\n",
                "\n",
                "The key to this is the `sklearn.model_selection.cross_validate` function. This saves you from having to write loops for getting data subsets, training the model, evaluating it, storing results somewhere...you never need to call `.fit()` or `.predict()`!\n",
                "\n",
                "You pass it a model, your `x` and `y` data, the number of folds you want, and the scores you want it to measure.\n",
                "\n",
                "You can pass **any** valid cross-validation object or just the number of folds you want. `sklearn` will figure out if you need stratified or random kfold.\n",
                "\n",
                "You can use a custom dictionary here to select the metrics you want. The keys should be the name you give to the metric and the value should be a valid `sklearn` metric. For a full list, import `sklearn` and then call `sorted(sklearn.metrics.SCORERS.keys())` - lots of choices!"
            ]
        },
        {
            "cell_type": "markdown",
            "metadata": {
                "slideshow": {
                    "slide_type": "slide"
                }
            },
            "source": [
                "### Cross-validation: full example"
            ]
        },
        {
            "cell_type": "code",
            "execution_count": null,
            "metadata": {
                "slideshow": {
                    "slide_type": "-"
                }
            },
            "outputs": [],
            "source": [
                "# Example of 5 fold CV on wine dataset using KNN\n",
                "my_cv = StratifiedKFold(5)\n",
                "my_metrics = {'accuracy': 'accuracy','precision': 'precision_macro', 'recall': 'recall_macro', 'f1': 'f1_macro'}\n",
                "scores = cross_validate(model, data.data, data.target, cv=my_cv, scoring=my_metrics)\n",
                "scores_df = pd.DataFrame(scores)\n",
                "\n",
                "scores_df"
            ]
        },
        {
            "cell_type": "markdown",
            "metadata": {
                "slideshow": {
                    "slide_type": "notes"
                }
            },
            "source": [
                "The results are stored in a dictionary. You can easily put these in a `pandas` DataFrame and look at them visually.\n",
                "\n",
                "Each row is the result of a fold. \n",
                "\n",
                "The first two columns give information about how long the model took to train (fit) and how long it took to generate the scores. The remaining columns give the results of the metrics you selected. Note that these column names match whatever keys you used in the `my_metrics` dictionary, but with `\"test_\"` prepended."
            ]
        },
        {
            "cell_type": "markdown",
            "metadata": {
                "slideshow": {
                    "slide_type": "slide"
                }
            },
            "source": [
                "## Cross-validation: time series\n",
                "\n",
                "- If the data has an ordering, as in time series, k-fold cannot simply choose random data points for the splits\n",
                "- Instead create sets of sub-sequences, and train your model by predicting future samples in part of them, and validate on unseen sequences\n",
                "\n",
                "![](img/time_series_validation.png)"
            ]
        },
        {
            "cell_type": "markdown",
            "metadata": {
                "slideshow": {
                    "slide_type": "notes"
                }
            },
            "source": [
                "In the time series setting, cross-fold validation might not make sense any more because we could be discarding the order of the data. \n",
                "\n",
                "Typically we instead do something like this: the data is sliced into one very short sequence and we try to predict the following point. \n",
                "\n",
                "Then the next \"fold\" is a slightly longer sequence, where we try to predict the next value, and we repeat until we've used all of the data we have."
            ]
        },
        {
            "cell_type": "markdown",
            "metadata": {
                "slideshow": {
                    "slide_type": "slide"
                }
            },
            "source": [
                "## Hyperparameter tuning\n",
                "\n",
                "* Models learn parameters: values estimated from data\n",
                "    * E.g. weights, biases\n",
                "* Hyperparameters: control how the model works\n",
                "    * Loss function, regularization strength, learning rate\n",
                "* Can be fine-tuned using data\n",
                "    * Set hyperparameter -> train -> evaluate\n",
                "    * Change hyperparameter\n",
                "    * Repeat"
            ]
        },
        {
            "cell_type": "markdown",
            "metadata": {
                "slideshow": {
                    "slide_type": "notes"
                }
            },
            "source": [
                "Parameters and hyperparameters are very different. We rarely have control over parameters: these are what the model has to learn.\n",
                "\n",
                "Hyperparameters are ways of influencing how the model learns. These are generally choices we need to make. Sometimes we might use specific settings based on experience, or we might just go with whatever default settings a model has. Alternatively, we can fine-tune the setting by trying lots of different values for it and seeing what works best.\n",
                "\n",
                "However, we don't want to evaluate different settings using our test set! This could result in overfitting, which we want to avoid so that the model we train is able to generalise to new, unseen, data.\n",
                "\n",
                "So, a validation (or development) set can be used for this.\n",
                "\n",
                "For each differently-tuned model, train on the training data and evaluate on the validation set. Then, once you have found the optimal hyperparameter settings, use those in your model and evaluate using the test set.\n",
                "\n",
                "This test set will therefore not have been used to set model parameters or hyperparameters. You can be somewhat confident that you are evaluating a model with new data which it has not had a chance to learn from directly."
            ]
        },
        {
            "cell_type": "markdown",
            "metadata": {
                "slideshow": {
                    "slide_type": "slide"
                }
            },
            "source": [
                "## Hyperparameters: grid search\n",
                "\n",
                "* A technique for trying different hyperparameter settings\n",
                "    * $h$ hyperparameters with $n$ possible values: $n^h$ combinations\n",
                "    * `h=6`, `n=10` : 1000000 combinations\n",
                "* Combined with k-fold cross-validation\n",
                "    * $k \\times n^h$ combinations\n",
                "* `sklearn.model_selection.GridSearchCV`\n",
                "    * Tries every single combination\n",
                "* `sklearn.model_selection.RandomizedSearchCV`\n",
                "    * Tries only a random subset of possible combinations"
            ]
        },
        {
            "cell_type": "markdown",
            "metadata": {
                "slideshow": {
                    "slide_type": "notes"
                }
            },
            "source": [
                "Grid Search involves trying every possible combination of values for all hyperparameters. So if you are tuning `learning_rate` and `dropout`, you might try ten values in the range 0.00001 to 1.0, for each. This will give you an idea of the best combination of `learning_rate` and `dropout` to use.\n",
                "\n",
                "When you combine this with cross-validation (to make sure your results are not a fluke due to the data partition used), the number of models you need to run really grows. Even if you are able to run many models in parallel, it could still take a while.\n",
                "\n",
                "An alternative is to try a randomly sampled subset of all possible combinations."
            ]
        },
        {
            "cell_type": "markdown",
            "metadata": {
                "slideshow": {
                    "slide_type": "slide"
                }
            },
            "source": [
                "## Grid search: full example"
            ]
        },
        {
            "cell_type": "code",
            "execution_count": null,
            "metadata": {
                "slideshow": {
                    "slide_type": "-"
                }
            },
            "outputs": [],
            "source": [
                "from sklearn.neighbors import KNeighborsClassifier as KNN\n",
                "from sklearn.model_selection import GridSearchCV\n",
                "from sklearn.metrics import make_scorer, accuracy_score\n",
                "from sklearn import datasets \n",
                "\n",
                "data = datasets.load_wine()\n",
                "model = KNN()\n",
                "hyperparams = {\"n_neighbors\":[1,2,3]}\n",
                "\n",
                "gridsearch = GridSearchCV(model, hyperparams, cv=5, scoring='accuracy')\n",
                "\n",
                "gridsearch.fit(data.data, data.target);"
            ]
        },
        {
            "cell_type": "markdown",
            "metadata": {
                "slideshow": {
                    "slide_type": "notes"
                }
            },
            "source": [
                "Here is an example of GridSearchCV being used to evaluate the k-nearest neighbours classifier. This model assigns a class to a data point, based on the classes of its nearest neighbours. The number of neighbours to use for this is a hyperparameter we can play with.\n",
                "\n",
                "The GridSearchCV object is given a model, a dictionary of the hyperparameters to try for that model, and the number of cross-validation folds to use. You can either specify a range of metrics to use,  using a dictionary, or you can select a specific one. Here, accuracy is being used.\n",
                "\n",
                "The data used here is a toy dataset included in `sklearn`, with 178 wines assigned to 3 groups."
            ]
        },
        {
            "cell_type": "markdown",
            "metadata": {
                "slideshow": {
                    "slide_type": "slide"
                }
            },
            "source": [
                "## Grid Search: full example"
            ]
        },
        {
            "cell_type": "code",
            "execution_count": null,
            "metadata": {
                "scrolled": true,
                "slideshow": {
                    "slide_type": "-"
                }
            },
            "outputs": [],
            "source": [
                "print(gridsearch.cv_results_.keys(), '\\n')\n",
                "\n",
                "print('mean_test_score', gridsearch.cv_results_['mean_test_score'])\n",
                "\n",
                "print('rank_test_score', gridsearch.cv_results_['rank_test_score'])\n",
                "\n",
                "print(gridsearch.best_estimator_)"
            ]
        },
        {
            "cell_type": "markdown",
            "metadata": {
                "slideshow": {
                    "slide_type": "notes"
                }
            },
            "source": [
                "The `GridSearchCV` object, once it has been passed data to train on, stores all results in its `cv_results_` attribute.\n",
                "\n",
                "This is a dictionary containing lots of information. `mean_test_score` shows the mean score for the metric we used across all folds, for each hyperparameter setting. `rank_test_score` shows the ranks of the hyperparameters so you can identify which setting was the best.\n",
                "\n",
                "You may have noticed that there is no train/test/validation split done here. It isn't necessary if we are doing grid search with cross-validation: using multiple folds of the data has the same effect and it's all taken care of by `sklearn`.\n",
                "\n",
                "If you have used a single metric for scoring, then once the grid search is complete the best model will be available to you via the `best_estimator_` attribute. You can then save this model or use it on new data in the future."
            ]
        },
        {
            "cell_type": "markdown",
            "metadata": {
                "slideshow": {
                    "slide_type": "slide"
                }
            },
            "source": [
                "## Bayesian optimization for hyperparameter optimization\n",
                "\n",
                "- Beyond grid search, there are other methods to tune hyperparameters.\n",
                "- **Bayesian optimization** takes a sequential strategy to optimize functions that are difficult or expensive to evaluate. \n",
                "- Treat the objective function as a random function and place a Gaussian process (GP) prior over it. \n",
                "- After the function is evaluated at some data points, the posterior distribution can be calculated and used to determine the next candidate point. \n",
                "- Bayesian optimization takes advantage of the tractable posterior distribution induced by the GP.\n",
                "- To read more: https://arxiv.org/abs/1206.2944, https://arxiv.org/pdf/1807.02811.pdf"
            ]
        },
        {
            "cell_type": "markdown",
            "metadata": {
                "slideshow": {
                    "slide_type": "notes"
                }
            },
            "source": [
                "Grid search might seem naive but it's surprisingly effective. In general, hyperparameter search is still an open research problem. \n",
                "\n",
                "We're not really sure whether there exists a general heuristic-guided hyperparameter tuner, or whether it should use random exploration, gradient methods, Bayesian optimization, or even reinforcement learning. There have been many attempts to improve hyperparameter search but for the most part we don't yet have a convincing go-to framework. \n",
                "\n",
                "In general, if you want to go beyond grid search it's good to start with a random exploration based parameter-free model like hyperband. "
            ]
        },
        {
            "cell_type": "markdown",
            "metadata": {
                "slideshow": {
                    "slide_type": "slide"
                }
            },
            "source": [
                "# Summary\n",
                "\n",
                "* Overfitting and underfitting reduce model's ability to generalize\n",
                "* Partition your data to increase confidence in assessments of model performance\n",
                "* Use cross-fold validation to evaluate predictions"
            ]
        },
        {
            "cell_type": "markdown",
            "metadata": {
                "slideshow": {
                    "slide_type": "notes"
                }
            },
            "source": [
                "The goal of ML is to make accurate predictions, and tests of overfitting and cross validation etc. are methods to help assess if that's what we're doing. \n",
                "\n",
                "In classical statistics, you might have some additional questions when validating, for example:\n",
                "- Could there be bias in our data that we should be aware of?\n",
                "- Is the model a good fit for our data? (goodness of fit tests)\n",
                "- Are our assumptions satisfied?\n",
                "\n",
                "Model evaluation is a complementary lecture, that we will cover later, in which we see different forms of evaluating the model. For instance, residual analysis is another big area for validation when we have a parametric model, like in regression or time series."
            ]
        },
        {
            "cell_type": "markdown",
            "metadata": {
                "slideshow": {
                    "slide_type": "slide"
                }
            },
            "source": [
                "## Jupyter Exercise\n",
                "\n",
                "Model Validation\n",
                "\n",
                "Go to file `model-validation.ipynb`"
            ]
        }
    ],
    "metadata": {
        "kernelspec": {
            "display_name": "Python 3 (ipykernel)",
            "language": "python",
            "name": "python3"
        },
        "language_info": {
            "codemirror_mode": {
                "name": "ipython",
                "version": 3
            },
            "file_extension": ".py",
            "mimetype": "text/x-python",
            "name": "python",
            "nbconvert_exporter": "python",
            "pygments_lexer": "ipython3",
            "version": "3.7"
        }
    },
    "nbformat": 4,
    "nbformat_minor": 2
}